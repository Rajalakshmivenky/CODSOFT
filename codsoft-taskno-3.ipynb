{
 "cells": [
  {
   "cell_type": "code",
   "execution_count": 1,
   "id": "cc63a57d",
   "metadata": {
    "_cell_guid": "b1076dfc-b9ad-4769-8c92-a6c4dae69d19",
    "_uuid": "8f2839f25d086af736a60e9eeb907d3b93b6e0e5",
    "execution": {
     "iopub.execute_input": "2024-03-02T10:11:28.843567Z",
     "iopub.status.busy": "2024-03-02T10:11:28.843164Z",
     "iopub.status.idle": "2024-03-02T10:11:29.788170Z",
     "shell.execute_reply": "2024-03-02T10:11:29.786534Z"
    },
    "papermill": {
     "duration": 0.96197,
     "end_time": "2024-03-02T10:11:29.791216",
     "exception": false,
     "start_time": "2024-03-02T10:11:28.829246",
     "status": "completed"
    },
    "tags": []
   },
   "outputs": [
    {
     "name": "stdout",
     "output_type": "stream",
     "text": [
      "/kaggle/input/iris-flower-dataset/IRIS.csv\n"
     ]
    }
   ],
   "source": [
    "# This Python 3 environment comes with many helpful analytics libraries installed\n",
    "# It is defined by the kaggle/python Docker image: https://github.com/kaggle/docker-python\n",
    "# For example, here's several helpful packages to load\n",
    "\n",
    "import numpy as np # linear algebra\n",
    "import pandas as pd # data processing, CSV file I/O (e.g. pd.read_csv)\n",
    "\n",
    "# Input data files are available in the read-only \"../input/\" directory\n",
    "# For example, running this (by clicking run or pressing Shift+Enter) will list all files under the input directory\n",
    "\n",
    "import os\n",
    "for dirname, _, filenames in os.walk('/kaggle/input'):\n",
    "    for filename in filenames:\n",
    "        print(os.path.join(dirname, filename))\n",
    "\n",
    "# You can write up to 20GB to the current directory (/kaggle/working/) that gets preserved as output when you create a version using \"Save & Run All\" \n",
    "# You can also write temporary files to /kaggle/temp/, but they won't be saved outside of the current session"
   ]
  },
  {
   "cell_type": "markdown",
   "id": "0128d426",
   "metadata": {
    "papermill": {
     "duration": 0.010961,
     "end_time": "2024-03-02T10:11:29.813895",
     "exception": false,
     "start_time": "2024-03-02T10:11:29.802934",
     "status": "completed"
    },
    "tags": []
   },
   "source": [
    "**Import Necessary Libraries**"
   ]
  },
  {
   "cell_type": "code",
   "execution_count": 2,
   "id": "a60c9af6",
   "metadata": {
    "execution": {
     "iopub.execute_input": "2024-03-02T10:11:29.839170Z",
     "iopub.status.busy": "2024-03-02T10:11:29.838414Z",
     "iopub.status.idle": "2024-03-02T10:11:31.699993Z",
     "shell.execute_reply": "2024-03-02T10:11:31.698768Z"
    },
    "papermill": {
     "duration": 1.877783,
     "end_time": "2024-03-02T10:11:31.703235",
     "exception": false,
     "start_time": "2024-03-02T10:11:29.825452",
     "status": "completed"
    },
    "tags": []
   },
   "outputs": [],
   "source": [
    "import pandas as pd \n",
    "import numpy as np \n",
    "import seaborn as sns\n",
    "import matplotlib.pyplot as plt\n",
    "from sklearn.model_selection import train_test_split\n",
    "from sklearn.linear_model import LinearRegression\n"
   ]
  },
  {
   "cell_type": "markdown",
   "id": "2141a80d",
   "metadata": {
    "papermill": {
     "duration": 0.011123,
     "end_time": "2024-03-02T10:11:31.726043",
     "exception": false,
     "start_time": "2024-03-02T10:11:31.714920",
     "status": "completed"
    },
    "tags": []
   },
   "source": [
    "**Loading The Dataset**"
   ]
  },
  {
   "cell_type": "code",
   "execution_count": 3,
   "id": "22410c8d",
   "metadata": {
    "execution": {
     "iopub.execute_input": "2024-03-02T10:11:31.750928Z",
     "iopub.status.busy": "2024-03-02T10:11:31.750485Z",
     "iopub.status.idle": "2024-03-02T10:11:31.786230Z",
     "shell.execute_reply": "2024-03-02T10:11:31.784763Z"
    },
    "papermill": {
     "duration": 0.05125,
     "end_time": "2024-03-02T10:11:31.789057",
     "exception": false,
     "start_time": "2024-03-02T10:11:31.737807",
     "status": "completed"
    },
    "tags": []
   },
   "outputs": [
    {
     "data": {
      "text/html": [
       "<div>\n",
       "<style scoped>\n",
       "    .dataframe tbody tr th:only-of-type {\n",
       "        vertical-align: middle;\n",
       "    }\n",
       "\n",
       "    .dataframe tbody tr th {\n",
       "        vertical-align: top;\n",
       "    }\n",
       "\n",
       "    .dataframe thead th {\n",
       "        text-align: right;\n",
       "    }\n",
       "</style>\n",
       "<table border=\"1\" class=\"dataframe\">\n",
       "  <thead>\n",
       "    <tr style=\"text-align: right;\">\n",
       "      <th></th>\n",
       "      <th>sepal_length</th>\n",
       "      <th>sepal_width</th>\n",
       "      <th>petal_length</th>\n",
       "      <th>petal_width</th>\n",
       "      <th>species</th>\n",
       "    </tr>\n",
       "  </thead>\n",
       "  <tbody>\n",
       "    <tr>\n",
       "      <th>0</th>\n",
       "      <td>5.1</td>\n",
       "      <td>3.5</td>\n",
       "      <td>1.4</td>\n",
       "      <td>0.2</td>\n",
       "      <td>Iris-setosa</td>\n",
       "    </tr>\n",
       "    <tr>\n",
       "      <th>1</th>\n",
       "      <td>4.9</td>\n",
       "      <td>3.0</td>\n",
       "      <td>1.4</td>\n",
       "      <td>0.2</td>\n",
       "      <td>Iris-setosa</td>\n",
       "    </tr>\n",
       "    <tr>\n",
       "      <th>2</th>\n",
       "      <td>4.7</td>\n",
       "      <td>3.2</td>\n",
       "      <td>1.3</td>\n",
       "      <td>0.2</td>\n",
       "      <td>Iris-setosa</td>\n",
       "    </tr>\n",
       "    <tr>\n",
       "      <th>3</th>\n",
       "      <td>4.6</td>\n",
       "      <td>3.1</td>\n",
       "      <td>1.5</td>\n",
       "      <td>0.2</td>\n",
       "      <td>Iris-setosa</td>\n",
       "    </tr>\n",
       "    <tr>\n",
       "      <th>4</th>\n",
       "      <td>5.0</td>\n",
       "      <td>3.6</td>\n",
       "      <td>1.4</td>\n",
       "      <td>0.2</td>\n",
       "      <td>Iris-setosa</td>\n",
       "    </tr>\n",
       "  </tbody>\n",
       "</table>\n",
       "</div>"
      ],
      "text/plain": [
       "   sepal_length  sepal_width  petal_length  petal_width      species\n",
       "0           5.1          3.5           1.4          0.2  Iris-setosa\n",
       "1           4.9          3.0           1.4          0.2  Iris-setosa\n",
       "2           4.7          3.2           1.3          0.2  Iris-setosa\n",
       "3           4.6          3.1           1.5          0.2  Iris-setosa\n",
       "4           5.0          3.6           1.4          0.2  Iris-setosa"
      ]
     },
     "execution_count": 3,
     "metadata": {},
     "output_type": "execute_result"
    }
   ],
   "source": [
    "iris = pd.read_csv(\"/kaggle/input/iris-flower-dataset/IRIS.csv\",encoding='latin')\n",
    "iris.head()\n"
   ]
  },
  {
   "cell_type": "code",
   "execution_count": 4,
   "id": "5c469622",
   "metadata": {
    "execution": {
     "iopub.execute_input": "2024-03-02T10:11:31.815374Z",
     "iopub.status.busy": "2024-03-02T10:11:31.814569Z",
     "iopub.status.idle": "2024-03-02T10:11:31.821801Z",
     "shell.execute_reply": "2024-03-02T10:11:31.820714Z"
    },
    "papermill": {
     "duration": 0.023192,
     "end_time": "2024-03-02T10:11:31.824158",
     "exception": false,
     "start_time": "2024-03-02T10:11:31.800966",
     "status": "completed"
    },
    "tags": []
   },
   "outputs": [
    {
     "data": {
      "text/plain": [
       "(150, 5)"
      ]
     },
     "execution_count": 4,
     "metadata": {},
     "output_type": "execute_result"
    }
   ],
   "source": [
    "iris.shape\n"
   ]
  },
  {
   "cell_type": "markdown",
   "id": "5ca2a0bb",
   "metadata": {
    "papermill": {
     "duration": 0.011361,
     "end_time": "2024-03-02T10:11:31.847385",
     "exception": false,
     "start_time": "2024-03-02T10:11:31.836024",
     "status": "completed"
    },
    "tags": []
   },
   "source": [
    "**Understand The Dataset**"
   ]
  },
  {
   "cell_type": "code",
   "execution_count": 5,
   "id": "1566467c",
   "metadata": {
    "execution": {
     "iopub.execute_input": "2024-03-02T10:11:31.874927Z",
     "iopub.status.busy": "2024-03-02T10:11:31.874067Z",
     "iopub.status.idle": "2024-03-02T10:11:31.905160Z",
     "shell.execute_reply": "2024-03-02T10:11:31.903577Z"
    },
    "papermill": {
     "duration": 0.047191,
     "end_time": "2024-03-02T10:11:31.907788",
     "exception": false,
     "start_time": "2024-03-02T10:11:31.860597",
     "status": "completed"
    },
    "tags": []
   },
   "outputs": [
    {
     "name": "stdout",
     "output_type": "stream",
     "text": [
      "<class 'pandas.core.frame.DataFrame'>\n",
      "RangeIndex: 150 entries, 0 to 149\n",
      "Data columns (total 5 columns):\n",
      " #   Column        Non-Null Count  Dtype  \n",
      "---  ------        --------------  -----  \n",
      " 0   sepal_length  150 non-null    float64\n",
      " 1   sepal_width   150 non-null    float64\n",
      " 2   petal_length  150 non-null    float64\n",
      " 3   petal_width   150 non-null    float64\n",
      " 4   species       150 non-null    object \n",
      "dtypes: float64(4), object(1)\n",
      "memory usage: 6.0+ KB\n"
     ]
    }
   ],
   "source": [
    "iris.info()\n"
   ]
  },
  {
   "cell_type": "code",
   "execution_count": 6,
   "id": "b7856a84",
   "metadata": {
    "execution": {
     "iopub.execute_input": "2024-03-02T10:11:31.934754Z",
     "iopub.status.busy": "2024-03-02T10:11:31.933884Z",
     "iopub.status.idle": "2024-03-02T10:11:31.958997Z",
     "shell.execute_reply": "2024-03-02T10:11:31.957759Z"
    },
    "papermill": {
     "duration": 0.041066,
     "end_time": "2024-03-02T10:11:31.961605",
     "exception": false,
     "start_time": "2024-03-02T10:11:31.920539",
     "status": "completed"
    },
    "tags": []
   },
   "outputs": [
    {
     "data": {
      "text/html": [
       "<div>\n",
       "<style scoped>\n",
       "    .dataframe tbody tr th:only-of-type {\n",
       "        vertical-align: middle;\n",
       "    }\n",
       "\n",
       "    .dataframe tbody tr th {\n",
       "        vertical-align: top;\n",
       "    }\n",
       "\n",
       "    .dataframe thead th {\n",
       "        text-align: right;\n",
       "    }\n",
       "</style>\n",
       "<table border=\"1\" class=\"dataframe\">\n",
       "  <thead>\n",
       "    <tr style=\"text-align: right;\">\n",
       "      <th></th>\n",
       "      <th>sepal_length</th>\n",
       "      <th>sepal_width</th>\n",
       "      <th>petal_length</th>\n",
       "      <th>petal_width</th>\n",
       "    </tr>\n",
       "  </thead>\n",
       "  <tbody>\n",
       "    <tr>\n",
       "      <th>count</th>\n",
       "      <td>150.000000</td>\n",
       "      <td>150.000000</td>\n",
       "      <td>150.000000</td>\n",
       "      <td>150.000000</td>\n",
       "    </tr>\n",
       "    <tr>\n",
       "      <th>mean</th>\n",
       "      <td>5.843333</td>\n",
       "      <td>3.054000</td>\n",
       "      <td>3.758667</td>\n",
       "      <td>1.198667</td>\n",
       "    </tr>\n",
       "    <tr>\n",
       "      <th>std</th>\n",
       "      <td>0.828066</td>\n",
       "      <td>0.433594</td>\n",
       "      <td>1.764420</td>\n",
       "      <td>0.763161</td>\n",
       "    </tr>\n",
       "    <tr>\n",
       "      <th>min</th>\n",
       "      <td>4.300000</td>\n",
       "      <td>2.000000</td>\n",
       "      <td>1.000000</td>\n",
       "      <td>0.100000</td>\n",
       "    </tr>\n",
       "    <tr>\n",
       "      <th>25%</th>\n",
       "      <td>5.100000</td>\n",
       "      <td>2.800000</td>\n",
       "      <td>1.600000</td>\n",
       "      <td>0.300000</td>\n",
       "    </tr>\n",
       "    <tr>\n",
       "      <th>50%</th>\n",
       "      <td>5.800000</td>\n",
       "      <td>3.000000</td>\n",
       "      <td>4.350000</td>\n",
       "      <td>1.300000</td>\n",
       "    </tr>\n",
       "    <tr>\n",
       "      <th>75%</th>\n",
       "      <td>6.400000</td>\n",
       "      <td>3.300000</td>\n",
       "      <td>5.100000</td>\n",
       "      <td>1.800000</td>\n",
       "    </tr>\n",
       "    <tr>\n",
       "      <th>max</th>\n",
       "      <td>7.900000</td>\n",
       "      <td>4.400000</td>\n",
       "      <td>6.900000</td>\n",
       "      <td>2.500000</td>\n",
       "    </tr>\n",
       "  </tbody>\n",
       "</table>\n",
       "</div>"
      ],
      "text/plain": [
       "       sepal_length  sepal_width  petal_length  petal_width\n",
       "count    150.000000   150.000000    150.000000   150.000000\n",
       "mean       5.843333     3.054000      3.758667     1.198667\n",
       "std        0.828066     0.433594      1.764420     0.763161\n",
       "min        4.300000     2.000000      1.000000     0.100000\n",
       "25%        5.100000     2.800000      1.600000     0.300000\n",
       "50%        5.800000     3.000000      4.350000     1.300000\n",
       "75%        6.400000     3.300000      5.100000     1.800000\n",
       "max        7.900000     4.400000      6.900000     2.500000"
      ]
     },
     "execution_count": 6,
     "metadata": {},
     "output_type": "execute_result"
    }
   ],
   "source": [
    "iris.describe()\n"
   ]
  },
  {
   "cell_type": "code",
   "execution_count": 7,
   "id": "92a358b0",
   "metadata": {
    "execution": {
     "iopub.execute_input": "2024-03-02T10:11:31.989507Z",
     "iopub.status.busy": "2024-03-02T10:11:31.988696Z",
     "iopub.status.idle": "2024-03-02T10:11:31.997764Z",
     "shell.execute_reply": "2024-03-02T10:11:31.996857Z"
    },
    "papermill": {
     "duration": 0.025329,
     "end_time": "2024-03-02T10:11:31.999957",
     "exception": false,
     "start_time": "2024-03-02T10:11:31.974628",
     "status": "completed"
    },
    "tags": []
   },
   "outputs": [
    {
     "data": {
      "text/plain": [
       "sepal_length    0\n",
       "sepal_width     0\n",
       "petal_length    0\n",
       "petal_width     0\n",
       "species         0\n",
       "dtype: int64"
      ]
     },
     "execution_count": 7,
     "metadata": {},
     "output_type": "execute_result"
    }
   ],
   "source": [
    "# Checking Null values\n",
    "iris.isnull().sum()\n",
    "# There are no NULL values in the dataset, hence it is clean.\n"
   ]
  },
  {
   "cell_type": "code",
   "execution_count": 8,
   "id": "eae814bc",
   "metadata": {
    "execution": {
     "iopub.execute_input": "2024-03-02T10:11:32.026909Z",
     "iopub.status.busy": "2024-03-02T10:11:32.026212Z",
     "iopub.status.idle": "2024-03-02T10:11:32.043202Z",
     "shell.execute_reply": "2024-03-02T10:11:32.041968Z"
    },
    "papermill": {
     "duration": 0.033637,
     "end_time": "2024-03-02T10:11:32.046044",
     "exception": false,
     "start_time": "2024-03-02T10:11:32.012407",
     "status": "completed"
    },
    "tags": []
   },
   "outputs": [
    {
     "data": {
      "text/html": [
       "<div>\n",
       "<style scoped>\n",
       "    .dataframe tbody tr th:only-of-type {\n",
       "        vertical-align: middle;\n",
       "    }\n",
       "\n",
       "    .dataframe tbody tr th {\n",
       "        vertical-align: top;\n",
       "    }\n",
       "\n",
       "    .dataframe thead th {\n",
       "        text-align: right;\n",
       "    }\n",
       "</style>\n",
       "<table border=\"1\" class=\"dataframe\">\n",
       "  <thead>\n",
       "    <tr style=\"text-align: right;\">\n",
       "      <th></th>\n",
       "      <th>petal_length</th>\n",
       "      <th>petal_width</th>\n",
       "    </tr>\n",
       "  </thead>\n",
       "  <tbody>\n",
       "    <tr>\n",
       "      <th>0</th>\n",
       "      <td>1.4</td>\n",
       "      <td>0.2</td>\n",
       "    </tr>\n",
       "    <tr>\n",
       "      <th>1</th>\n",
       "      <td>1.4</td>\n",
       "      <td>0.2</td>\n",
       "    </tr>\n",
       "    <tr>\n",
       "      <th>2</th>\n",
       "      <td>1.3</td>\n",
       "      <td>0.2</td>\n",
       "    </tr>\n",
       "    <tr>\n",
       "      <th>3</th>\n",
       "      <td>1.5</td>\n",
       "      <td>0.2</td>\n",
       "    </tr>\n",
       "    <tr>\n",
       "      <th>4</th>\n",
       "      <td>1.4</td>\n",
       "      <td>0.2</td>\n",
       "    </tr>\n",
       "    <tr>\n",
       "      <th>...</th>\n",
       "      <td>...</td>\n",
       "      <td>...</td>\n",
       "    </tr>\n",
       "    <tr>\n",
       "      <th>145</th>\n",
       "      <td>5.2</td>\n",
       "      <td>2.3</td>\n",
       "    </tr>\n",
       "    <tr>\n",
       "      <th>146</th>\n",
       "      <td>5.0</td>\n",
       "      <td>1.9</td>\n",
       "    </tr>\n",
       "    <tr>\n",
       "      <th>147</th>\n",
       "      <td>5.2</td>\n",
       "      <td>2.0</td>\n",
       "    </tr>\n",
       "    <tr>\n",
       "      <th>148</th>\n",
       "      <td>5.4</td>\n",
       "      <td>2.3</td>\n",
       "    </tr>\n",
       "    <tr>\n",
       "      <th>149</th>\n",
       "      <td>5.1</td>\n",
       "      <td>1.8</td>\n",
       "    </tr>\n",
       "  </tbody>\n",
       "</table>\n",
       "<p>150 rows × 2 columns</p>\n",
       "</div>"
      ],
      "text/plain": [
       "     petal_length  petal_width\n",
       "0             1.4          0.2\n",
       "1             1.4          0.2\n",
       "2             1.3          0.2\n",
       "3             1.5          0.2\n",
       "4             1.4          0.2\n",
       "..            ...          ...\n",
       "145           5.2          2.3\n",
       "146           5.0          1.9\n",
       "147           5.2          2.0\n",
       "148           5.4          2.3\n",
       "149           5.1          1.8\n",
       "\n",
       "[150 rows x 2 columns]"
      ]
     },
     "execution_count": 8,
     "metadata": {},
     "output_type": "execute_result"
    }
   ],
   "source": [
    "iris = iris[[\"petal_length\",\"petal_width\"]]\n",
    "iris"
   ]
  },
  {
   "cell_type": "code",
   "execution_count": 9,
   "id": "2eb18b05",
   "metadata": {
    "execution": {
     "iopub.execute_input": "2024-03-02T10:11:32.073540Z",
     "iopub.status.busy": "2024-03-02T10:11:32.072702Z",
     "iopub.status.idle": "2024-03-02T10:11:32.080047Z",
     "shell.execute_reply": "2024-03-02T10:11:32.078808Z"
    },
    "papermill": {
     "duration": 0.023982,
     "end_time": "2024-03-02T10:11:32.082839",
     "exception": false,
     "start_time": "2024-03-02T10:11:32.058857",
     "status": "completed"
    },
    "tags": []
   },
   "outputs": [
    {
     "data": {
      "text/plain": [
       "(150, 2)"
      ]
     },
     "execution_count": 9,
     "metadata": {},
     "output_type": "execute_result"
    }
   ],
   "source": [
    "iris.shape"
   ]
  },
  {
   "cell_type": "code",
   "execution_count": 10,
   "id": "34ae11c1",
   "metadata": {
    "execution": {
     "iopub.execute_input": "2024-03-02T10:11:32.110410Z",
     "iopub.status.busy": "2024-03-02T10:11:32.110011Z",
     "iopub.status.idle": "2024-03-02T10:11:32.390845Z",
     "shell.execute_reply": "2024-03-02T10:11:32.389629Z"
    },
    "papermill": {
     "duration": 0.297477,
     "end_time": "2024-03-02T10:11:32.393303",
     "exception": false,
     "start_time": "2024-03-02T10:11:32.095826",
     "status": "completed"
    },
    "tags": []
   },
   "outputs": [
    {
     "data": {
      "image/png": "[encoded data removed]",
      "text/plain": [
       "<Figure size 640x480 with 1 Axes>"
      ]
     },
     "metadata": {},
     "output_type": "display_data"
    }
   ],
   "source": [
    "# to check the Outlier\n",
    "iris.plot(kind=\"box\")\n",
    "plt.show()"
   ]
  },
  {
   "cell_type": "markdown",
   "id": "83662ed3",
   "metadata": {
    "papermill": {
     "duration": 0.012658,
     "end_time": "2024-03-02T10:11:32.419185",
     "exception": false,
     "start_time": "2024-03-02T10:11:32.406527",
     "status": "completed"
    },
    "tags": []
   },
   "source": [
    "**To Find The Correlation Coefficient**"
   ]
  },
  {
   "cell_type": "code",
   "execution_count": 11,
   "id": "eb0f6112",
   "metadata": {
    "execution": {
     "iopub.execute_input": "2024-03-02T10:11:32.446969Z",
     "iopub.status.busy": "2024-03-02T10:11:32.446537Z",
     "iopub.status.idle": "2024-03-02T10:11:32.459474Z",
     "shell.execute_reply": "2024-03-02T10:11:32.458284Z"
    },
    "papermill": {
     "duration": 0.029527,
     "end_time": "2024-03-02T10:11:32.461791",
     "exception": false,
     "start_time": "2024-03-02T10:11:32.432264",
     "status": "completed"
    },
    "tags": []
   },
   "outputs": [
    {
     "data": {
      "text/html": [
       "<div>\n",
       "<style scoped>\n",
       "    .dataframe tbody tr th:only-of-type {\n",
       "        vertical-align: middle;\n",
       "    }\n",
       "\n",
       "    .dataframe tbody tr th {\n",
       "        vertical-align: top;\n",
       "    }\n",
       "\n",
       "    .dataframe thead th {\n",
       "        text-align: right;\n",
       "    }\n",
       "</style>\n",
       "<table border=\"1\" class=\"dataframe\">\n",
       "  <thead>\n",
       "    <tr style=\"text-align: right;\">\n",
       "      <th></th>\n",
       "      <th>petal_length</th>\n",
       "      <th>petal_width</th>\n",
       "    </tr>\n",
       "  </thead>\n",
       "  <tbody>\n",
       "    <tr>\n",
       "      <th>petal_length</th>\n",
       "      <td>1.000000</td>\n",
       "      <td>0.962757</td>\n",
       "    </tr>\n",
       "    <tr>\n",
       "      <th>petal_width</th>\n",
       "      <td>0.962757</td>\n",
       "      <td>1.000000</td>\n",
       "    </tr>\n",
       "  </tbody>\n",
       "</table>\n",
       "</div>"
      ],
      "text/plain": [
       "              petal_length  petal_width\n",
       "petal_length      1.000000     0.962757\n",
       "petal_width       0.962757     1.000000"
      ]
     },
     "execution_count": 11,
     "metadata": {},
     "output_type": "execute_result"
    }
   ],
   "source": [
    "iris.corr()\n"
   ]
  },
  {
   "cell_type": "code",
   "execution_count": 12,
   "id": "4fc90818",
   "metadata": {
    "execution": {
     "iopub.execute_input": "2024-03-02T10:11:32.490695Z",
     "iopub.status.busy": "2024-03-02T10:11:32.490244Z",
     "iopub.status.idle": "2024-03-02T10:11:32.495398Z",
     "shell.execute_reply": "2024-03-02T10:11:32.494322Z"
    },
    "papermill": {
     "duration": 0.022774,
     "end_time": "2024-03-02T10:11:32.497956",
     "exception": false,
     "start_time": "2024-03-02T10:11:32.475182",
     "status": "completed"
    },
    "tags": []
   },
   "outputs": [],
   "source": [
    "x = iris[\"petal_length\"]\n",
    "y = iris[\"petal_width\"]"
   ]
  },
  {
   "cell_type": "code",
   "execution_count": 13,
   "id": "af6eaf21",
   "metadata": {
    "execution": {
     "iopub.execute_input": "2024-03-02T10:11:32.526639Z",
     "iopub.status.busy": "2024-03-02T10:11:32.526267Z",
     "iopub.status.idle": "2024-03-02T10:11:32.797894Z",
     "shell.execute_reply": "2024-03-02T10:11:32.796313Z"
    },
    "papermill": {
     "duration": 0.289347,
     "end_time": "2024-03-02T10:11:32.800769",
     "exception": false,
     "start_time": "2024-03-02T10:11:32.511422",
     "status": "completed"
    },
    "tags": []
   },
   "outputs": [
    {
     "data": {
      "image/png": "[encoded data removed]",
      "text/plain": [
       "<Figure size 640x480 with 1 Axes>"
      ]
     },
     "metadata": {},
     "output_type": "display_data"
    }
   ],
   "source": [
    "plt.scatter(x,y)\n",
    "plt.xlabel(\"petal_length\")\n",
    "plt.xlabel(\"petal_width\")\n",
    "plt.show()"
   ]
  },
  {
   "cell_type": "markdown",
   "id": "45e541d7",
   "metadata": {
    "papermill": {
     "duration": 0.013394,
     "end_time": "2024-03-02T10:11:32.828305",
     "exception": false,
     "start_time": "2024-03-02T10:11:32.814911",
     "status": "completed"
    },
    "tags": []
   },
   "source": [
    "**Splitting The Dataset Into Train data and Test data**"
   ]
  },
  {
   "cell_type": "code",
   "execution_count": 14,
   "id": "98383b69",
   "metadata": {
    "execution": {
     "iopub.execute_input": "2024-03-02T10:11:32.858379Z",
     "iopub.status.busy": "2024-03-02T10:11:32.857770Z",
     "iopub.status.idle": "2024-03-02T10:11:32.873732Z",
     "shell.execute_reply": "2024-03-02T10:11:32.872606Z"
    },
    "papermill": {
     "duration": 0.034199,
     "end_time": "2024-03-02T10:11:32.876437",
     "exception": false,
     "start_time": "2024-03-02T10:11:32.842238",
     "status": "completed"
    },
    "tags": []
   },
   "outputs": [
    {
     "data": {
      "text/plain": [
       "95     4.2\n",
       "88     4.1\n",
       "0      1.4\n",
       "46     1.6\n",
       "11     1.6\n",
       "      ... \n",
       "22     1.0\n",
       "75     4.4\n",
       "137    5.5\n",
       "15     1.5\n",
       "99     4.1\n",
       "Name: petal_length, Length: 120, dtype: float64"
      ]
     },
     "execution_count": 14,
     "metadata": {},
     "output_type": "execute_result"
    }
   ],
   "source": [
    "x_train,x_test,y_train,y_test = train_test_split(x,y,test_size = 0.2 , random_state=20)\n",
    "x_train"
   ]
  },
  {
   "cell_type": "markdown",
   "id": "47f5a091",
   "metadata": {
    "papermill": {
     "duration": 0.014102,
     "end_time": "2024-03-02T10:11:32.905268",
     "exception": false,
     "start_time": "2024-03-02T10:11:32.891166",
     "status": "completed"
    },
    "tags": []
   },
   "source": [
    "**Changing The Input Data Into Two Dimensional Array**"
   ]
  },
  {
   "cell_type": "code",
   "execution_count": 15,
   "id": "1e7f7172",
   "metadata": {
    "execution": {
     "iopub.execute_input": "2024-03-02T10:11:32.936913Z",
     "iopub.status.busy": "2024-03-02T10:11:32.935706Z",
     "iopub.status.idle": "2024-03-02T10:11:32.946708Z",
     "shell.execute_reply": "2024-03-02T10:11:32.945470Z"
    },
    "papermill": {
     "duration": 0.02935,
     "end_time": "2024-03-02T10:11:32.949161",
     "exception": false,
     "start_time": "2024-03-02T10:11:32.919811",
     "status": "completed"
    },
    "tags": []
   },
   "outputs": [
    {
     "data": {
      "text/plain": [
       "array([[4.2],\n",
       "       [4.1],\n",
       "       [1.4],\n",
       "       [1.6],\n",
       "       [1.6],\n",
       "       [4.5],\n",
       "       [4.5],\n",
       "       [1.4],\n",
       "       [4.5],\n",
       "       [6.1],\n",
       "       [4.5],\n",
       "       [5.6],\n",
       "       [1.5],\n",
       "       [4.4],\n",
       "       [4.7],\n",
       "       [1.3],\n",
       "       [1.7],\n",
       "       [1.4],\n",
       "       [5. ],\n",
       "       [1.9],\n",
       "       [5.6],\n",
       "       [5.4],\n",
       "       [1.5],\n",
       "       [6. ],\n",
       "       [4. ],\n",
       "       [3.6],\n",
       "       [4.5],\n",
       "       [1.3],\n",
       "       [1.5],\n",
       "       [3.8],\n",
       "       [4.3],\n",
       "       [4. ],\n",
       "       [3.9],\n",
       "       [4.7],\n",
       "       [4.6],\n",
       "       [4.2],\n",
       "       [1.7],\n",
       "       [4.5],\n",
       "       [4.4],\n",
       "       [1.5],\n",
       "       [1.3],\n",
       "       [4.5],\n",
       "       [4. ],\n",
       "       [4.6],\n",
       "       [1.5],\n",
       "       [1.5],\n",
       "       [5.3],\n",
       "       [1.3],\n",
       "       [1.6],\n",
       "       [3.5],\n",
       "       [4.8],\n",
       "       [5.1],\n",
       "       [4.9],\n",
       "       [5.6],\n",
       "       [5.6],\n",
       "       [5.9],\n",
       "       [3.9],\n",
       "       [5.5],\n",
       "       [6.1],\n",
       "       [6.1],\n",
       "       [1.4],\n",
       "       [5.5],\n",
       "       [1.5],\n",
       "       [1.4],\n",
       "       [1.2],\n",
       "       [5.2],\n",
       "       [4.9],\n",
       "       [4.8],\n",
       "       [5.4],\n",
       "       [4.9],\n",
       "       [4.2],\n",
       "       [1.3],\n",
       "       [4.9],\n",
       "       [1.4],\n",
       "       [3.3],\n",
       "       [6.7],\n",
       "       [1.9],\n",
       "       [4.5],\n",
       "       [4.7],\n",
       "       [4.8],\n",
       "       [1.4],\n",
       "       [1.6],\n",
       "       [6. ],\n",
       "       [5.7],\n",
       "       [3.9],\n",
       "       [4.4],\n",
       "       [3.5],\n",
       "       [5.7],\n",
       "       [5.6],\n",
       "       [1.6],\n",
       "       [5.7],\n",
       "       [1.4],\n",
       "       [5. ],\n",
       "       [1.5],\n",
       "       [1.7],\n",
       "       [5. ],\n",
       "       [5.6],\n",
       "       [6.3],\n",
       "       [1.5],\n",
       "       [1.5],\n",
       "       [5.1],\n",
       "       [5.1],\n",
       "       [4.2],\n",
       "       [6.4],\n",
       "       [1.6],\n",
       "       [5.1],\n",
       "       [1.4],\n",
       "       [1.5],\n",
       "       [5.1],\n",
       "       [6.6],\n",
       "       [1.3],\n",
       "       [1.6],\n",
       "       [1.3],\n",
       "       [6.9],\n",
       "       [4. ],\n",
       "       [1. ],\n",
       "       [4.4],\n",
       "       [5.5],\n",
       "       [1.5],\n",
       "       [4.1]])"
      ]
     },
     "execution_count": 15,
     "metadata": {},
     "output_type": "execute_result"
    }
   ],
   "source": [
    "x_train = np.array(x_train).reshape(-1,1)\n",
    "x_train"
   ]
  },
  {
   "cell_type": "code",
   "execution_count": 16,
   "id": "5843eb89",
   "metadata": {
    "execution": {
     "iopub.execute_input": "2024-03-02T10:11:32.980924Z",
     "iopub.status.busy": "2024-03-02T10:11:32.980455Z",
     "iopub.status.idle": "2024-03-02T10:11:32.989167Z",
     "shell.execute_reply": "2024-03-02T10:11:32.988015Z"
    },
    "papermill": {
     "duration": 0.027074,
     "end_time": "2024-03-02T10:11:32.991706",
     "exception": false,
     "start_time": "2024-03-02T10:11:32.964632",
     "status": "completed"
    },
    "tags": []
   },
   "outputs": [
    {
     "data": {
      "text/plain": [
       "array([[1.4],\n",
       "       [4.7],\n",
       "       [4.3],\n",
       "       [5.8],\n",
       "       [4.1],\n",
       "       [4. ],\n",
       "       [5.9],\n",
       "       [1.5],\n",
       "       [5.8],\n",
       "       [1.4],\n",
       "       [5.2],\n",
       "       [4.8],\n",
       "       [5. ],\n",
       "       [1.2],\n",
       "       [1.4],\n",
       "       [6.7],\n",
       "       [1.1],\n",
       "       [4.6],\n",
       "       [5.1],\n",
       "       [3.3],\n",
       "       [4.7],\n",
       "       [5.1],\n",
       "       [5.3],\n",
       "       [1.7],\n",
       "       [4.9],\n",
       "       [3.7],\n",
       "       [3. ],\n",
       "       [1.5],\n",
       "       [5.8],\n",
       "       [5.1]])"
      ]
     },
     "execution_count": 16,
     "metadata": {},
     "output_type": "execute_result"
    }
   ],
   "source": [
    "x_test = np.array(x_test).reshape(-1,1)\n",
    "x_test"
   ]
  },
  {
   "cell_type": "markdown",
   "id": "af63d1c5",
   "metadata": {
    "papermill": {
     "duration": 0.014343,
     "end_time": "2024-03-02T10:11:33.020840",
     "exception": false,
     "start_time": "2024-03-02T10:11:33.006497",
     "status": "completed"
    },
    "tags": []
   },
   "source": [
    "**To Implement The Linear Regression**"
   ]
  },
  {
   "cell_type": "code",
   "execution_count": 17,
   "id": "0189bcab",
   "metadata": {
    "execution": {
     "iopub.execute_input": "2024-03-02T10:11:33.052481Z",
     "iopub.status.busy": "2024-03-02T10:11:33.052028Z",
     "iopub.status.idle": "2024-03-02T10:11:33.075345Z",
     "shell.execute_reply": "2024-03-02T10:11:33.074142Z"
    },
    "papermill": {
     "duration": 0.041627,
     "end_time": "2024-03-02T10:11:33.077903",
     "exception": false,
     "start_time": "2024-03-02T10:11:33.036276",
     "status": "completed"
    },
    "tags": []
   },
   "outputs": [
    {
     "data": {
      "text/html": [
       "<style>#sk-container-id-1 {color: black;background-color: white;}#sk-container-id-1 pre{padding: 0;}#sk-container-id-1 div.sk-toggleable {background-color: white;}#sk-container-id-1 label.sk-toggleable__label {cursor: pointer;display: block;width: 100%;margin-bottom: 0;padding: 0.3em;box-sizing: border-box;text-align: center;}#sk-container-id-1 label.sk-toggleable__label-arrow:before {content: \"▸\";float: left;margin-right: 0.25em;color: #696969;}#sk-container-id-1 label.sk-toggleable__label-arrow:hover:before {color: black;}#sk-container-id-1 div.sk-estimator:hover label.sk-toggleable__label-arrow:before {color: black;}#sk-container-id-1 div.sk-toggleable__content {max-height: 0;max-width: 0;overflow: hidden;text-align: left;background-color: #f0f8ff;}#sk-container-id-1 div.sk-toggleable__content pre {margin: 0.2em;color: black;border-radius: 0.25em;background-color: #f0f8ff;}#sk-container-id-1 input.sk-toggleable__control:checked~div.sk-toggleable__content {max-height: 200px;max-width: 100%;overflow: auto;}#sk-container-id-1 input.sk-toggleable__control:checked~label.sk-toggleable__label-arrow:before {content: \"▾\";}#sk-container-id-1 div.sk-estimator input.sk-toggleable__control:checked~label.sk-toggleable__label {background-color: #d4ebff;}#sk-container-id-1 div.sk-label input.sk-toggleable__control:checked~label.sk-toggleable__label {background-color: #d4ebff;}#sk-container-id-1 input.sk-hidden--visually {border: 0;clip: rect(1px 1px 1px 1px);clip: rect(1px, 1px, 1px, 1px);height: 1px;margin: -1px;overflow: hidden;padding: 0;position: absolute;width: 1px;}#sk-container-id-1 div.sk-estimator {font-family: monospace;background-color: #f0f8ff;border: 1px dotted black;border-radius: 0.25em;box-sizing: border-box;margin-bottom: 0.5em;}#sk-container-id-1 div.sk-estimator:hover {background-color: #d4ebff;}#sk-container-id-1 div.sk-parallel-item::after {content: \"\";width: 100%;border-bottom: 1px solid gray;flex-grow: 1;}#sk-container-id-1 div.sk-label:hover label.sk-toggleable__label {background-color: #d4ebff;}#sk-container-id-1 div.sk-serial::before {content: \"\";position: absolute;border-left: 1px solid gray;box-sizing: border-box;top: 0;bottom: 0;left: 50%;z-index: 0;}#sk-container-id-1 div.sk-serial {display: flex;flex-direction: column;align-items: center;background-color: white;padding-right: 0.2em;padding-left: 0.2em;position: relative;}#sk-container-id-1 div.sk-item {position: relative;z-index: 1;}#sk-container-id-1 div.sk-parallel {display: flex;align-items: stretch;justify-content: center;background-color: white;position: relative;}#sk-container-id-1 div.sk-item::before, #sk-container-id-1 div.sk-parallel-item::before {content: \"\";position: absolute;border-left: 1px solid gray;box-sizing: border-box;top: 0;bottom: 0;left: 50%;z-index: -1;}#sk-container-id-1 div.sk-parallel-item {display: flex;flex-direction: column;z-index: 1;position: relative;background-color: white;}#sk-container-id-1 div.sk-parallel-item:first-child::after {align-self: flex-end;width: 50%;}#sk-container-id-1 div.sk-parallel-item:last-child::after {align-self: flex-start;width: 50%;}#sk-container-id-1 div.sk-parallel-item:only-child::after {width: 0;}#sk-container-id-1 div.sk-dashed-wrapped {border: 1px dashed gray;margin: 0 0.4em 0.5em 0.4em;box-sizing: border-box;padding-bottom: 0.4em;background-color: white;}#sk-container-id-1 div.sk-label label {font-family: monospace;font-weight: bold;display: inline-block;line-height: 1.2em;}#sk-container-id-1 div.sk-label-container {text-align: center;}#sk-container-id-1 div.sk-container {/* jupyter's `normalize.less` sets `[hidden] { display: none; }` but bootstrap.min.css set `[hidden] { display: none !important; }` so we also need the `!important` here to be able to override the default hidden behavior on the sphinx rendered scikit-learn.org. See: https://github.com/scikit-learn/scikit-learn/issues/21755 */display: inline-block !important;position: relative;}#sk-container-id-1 div.sk-text-repr-fallback {display: none;}</style><div id=\"sk-container-id-1\" class=\"sk-top-container\"><div class=\"sk-text-repr-fallback\"><pre>LinearRegression()</pre><b>In a Jupyter environment, please rerun this cell to show the HTML representation or trust the notebook. <br />On GitHub, the HTML representation is unable to render, please try loading this page with nbviewer.org.</b></div><div class=\"sk-container\" hidden><div class=\"sk-item\"><div class=\"sk-estimator sk-toggleable\"><input class=\"sk-toggleable__control sk-hidden--visually\" id=\"sk-estimator-id-1\" type=\"checkbox\" checked><label for=\"sk-estimator-id-1\" class=\"sk-toggleable__label sk-toggleable__label-arrow\">LinearRegression</label><div class=\"sk-toggleable__content\"><pre>LinearRegression()</pre></div></div></div></div></div>"
      ],
      "text/plain": [
       "LinearRegression()"
      ]
     },
     "execution_count": 17,
     "metadata": {},
     "output_type": "execute_result"
    }
   ],
   "source": [
    "lr= LinearRegression()\n",
    "lr.fit(x_train,y_train)"
   ]
  },
  {
   "cell_type": "code",
   "execution_count": 18,
   "id": "0d7ec702",
   "metadata": {
    "execution": {
     "iopub.execute_input": "2024-03-02T10:11:33.109142Z",
     "iopub.status.busy": "2024-03-02T10:11:33.108699Z",
     "iopub.status.idle": "2024-03-02T10:11:33.116138Z",
     "shell.execute_reply": "2024-03-02T10:11:33.114880Z"
    },
    "papermill": {
     "duration": 0.026029,
     "end_time": "2024-03-02T10:11:33.118620",
     "exception": false,
     "start_time": "2024-03-02T10:11:33.092591",
     "status": "completed"
    },
    "tags": []
   },
   "outputs": [
    {
     "data": {
      "text/plain": [
       "-0.3717018549705138"
      ]
     },
     "execution_count": 18,
     "metadata": {},
     "output_type": "execute_result"
    }
   ],
   "source": [
    "#To find the intercept\n",
    "c = lr.intercept_\n",
    "c"
   ]
  },
  {
   "cell_type": "code",
   "execution_count": 19,
   "id": "9de13c2f",
   "metadata": {
    "execution": {
     "iopub.execute_input": "2024-03-02T10:11:33.151443Z",
     "iopub.status.busy": "2024-03-02T10:11:33.151016Z",
     "iopub.status.idle": "2024-03-02T10:11:33.158284Z",
     "shell.execute_reply": "2024-03-02T10:11:33.157033Z"
    },
    "papermill": {
     "duration": 0.026696,
     "end_time": "2024-03-02T10:11:33.160717",
     "exception": false,
     "start_time": "2024-03-02T10:11:33.134021",
     "status": "completed"
    },
    "tags": []
   },
   "outputs": [
    {
     "data": {
      "text/plain": [
       "array([0.42271533])"
      ]
     },
     "execution_count": 19,
     "metadata": {},
     "output_type": "execute_result"
    }
   ],
   "source": [
    "#To find the coefficient\n",
    "m=lr.coef_\n",
    "m"
   ]
  },
  {
   "cell_type": "markdown",
   "id": "37254c2b",
   "metadata": {
    "papermill": {
     "duration": 0.015031,
     "end_time": "2024-03-02T10:11:33.190975",
     "exception": false,
     "start_time": "2024-03-02T10:11:33.175944",
     "status": "completed"
    },
    "tags": []
   },
   "source": [
    "**To predict the Simple Linear Regression**"
   ]
  },
  {
   "cell_type": "code",
   "execution_count": 20,
   "id": "c74e6391",
   "metadata": {
    "execution": {
     "iopub.execute_input": "2024-03-02T10:11:33.222763Z",
     "iopub.status.busy": "2024-03-02T10:11:33.222268Z",
     "iopub.status.idle": "2024-03-02T10:11:33.231117Z",
     "shell.execute_reply": "2024-03-02T10:11:33.229891Z"
    },
    "papermill": {
     "duration": 0.028075,
     "end_time": "2024-03-02T10:11:33.233968",
     "exception": false,
     "start_time": "2024-03-02T10:11:33.205893",
     "status": "completed"
    },
    "tags": []
   },
   "outputs": [
    {
     "data": {
      "text/plain": [
       "array([1.40370253, 1.361431  , 0.22009961, 0.30464267, 0.30464267,\n",
       "       1.53051713, 1.53051713, 0.22009961, 1.53051713, 2.20686166,\n",
       "       1.53051713, 1.99550399, 0.26237114, 1.4882456 , 1.6150602 ,\n",
       "       0.17782807, 0.34691421, 0.22009961, 1.7418748 , 0.43145727,\n",
       "       1.99550399, 1.91096093, 0.26237114, 2.16459013, 1.31915947,\n",
       "       1.15007333, 1.53051713, 0.17782807, 0.26237114, 1.2346164 ,\n",
       "       1.44597406, 1.31915947, 1.27688793, 1.6150602 , 1.57278866,\n",
       "       1.40370253, 0.34691421, 1.53051713, 1.4882456 , 0.26237114,\n",
       "       0.17782807, 1.53051713, 1.31915947, 1.57278866, 0.26237114,\n",
       "       0.26237114, 1.86868939, 0.17782807, 0.30464267, 1.1078018 ,\n",
       "       1.65733173, 1.78414633, 1.69960326, 1.99550399, 1.99550399,\n",
       "       2.12231859, 1.27688793, 1.95323246, 2.20686166, 2.20686166,\n",
       "       0.22009961, 1.95323246, 0.26237114, 0.22009961, 0.13555654,\n",
       "       1.82641786, 1.69960326, 1.65733173, 1.91096093, 1.69960326,\n",
       "       1.40370253, 0.17782807, 1.69960326, 0.22009961, 1.02325873,\n",
       "       2.46049086, 0.43145727, 1.53051713, 1.6150602 , 1.65733173,\n",
       "       0.22009961, 0.30464267, 2.16459013, 2.03777553, 1.27688793,\n",
       "       1.4882456 , 1.1078018 , 2.03777553, 1.99550399, 0.30464267,\n",
       "       2.03777553, 0.22009961, 1.7418748 , 0.26237114, 0.34691421,\n",
       "       1.7418748 , 1.99550399, 2.29140472, 0.26237114, 0.26237114,\n",
       "       1.78414633, 1.78414633, 1.40370253, 2.33367626, 0.30464267,\n",
       "       1.78414633, 0.22009961, 0.26237114, 1.78414633, 2.41821932,\n",
       "       0.17782807, 0.30464267, 0.17782807, 2.54503392, 1.31915947,\n",
       "       0.05101348, 1.4882456 , 1.95323246, 0.26237114, 1.361431  ])"
      ]
     },
     "execution_count": 20,
     "metadata": {},
     "output_type": "execute_result"
    }
   ],
   "source": [
    "y_train_predict = lr.predict(x_train)\n",
    "y_train_predict"
   ]
  },
  {
   "cell_type": "code",
   "execution_count": 21,
   "id": "1a4ecd2b",
   "metadata": {
    "execution": {
     "iopub.execute_input": "2024-03-02T10:11:33.266175Z",
     "iopub.status.busy": "2024-03-02T10:11:33.265782Z",
     "iopub.status.idle": "2024-03-02T10:11:33.528729Z",
     "shell.execute_reply": "2024-03-02T10:11:33.527469Z"
    },
    "papermill": {
     "duration": 0.282341,
     "end_time": "2024-03-02T10:11:33.531526",
     "exception": false,
     "start_time": "2024-03-02T10:11:33.249185",
     "status": "completed"
    },
    "tags": []
   },
   "outputs": [
    {
     "data": {
      "image/png": "[encoded data removed]",
      "text/plain": [
       "<Figure size 640x480 with 1 Axes>"
      ]
     },
     "metadata": {},
     "output_type": "display_data"
    }
   ],
   "source": [
    "plt.scatter(x_train,y_train)\n",
    "plt.xlabel(\"Petal Length\")\n",
    "plt.ylabel(\"Petal Width\")\n",
    "plt.show()\n"
   ]
  },
  {
   "cell_type": "code",
   "execution_count": 22,
   "id": "71f73c4b",
   "metadata": {
    "execution": {
     "iopub.execute_input": "2024-03-02T10:11:33.564308Z",
     "iopub.status.busy": "2024-03-02T10:11:33.563915Z",
     "iopub.status.idle": "2024-03-02T10:11:33.840067Z",
     "shell.execute_reply": "2024-03-02T10:11:33.839203Z"
    },
    "papermill": {
     "duration": 0.295936,
     "end_time": "2024-03-02T10:11:33.843127",
     "exception": false,
     "start_time": "2024-03-02T10:11:33.547191",
     "status": "completed"
    },
    "tags": []
   },
   "outputs": [
    {
     "data": {
      "image/png": "[encoded data removed]",
      "text/plain": [
       "<Figure size 640x480 with 1 Axes>"
      ]
     },
     "metadata": {},
     "output_type": "display_data"
    }
   ],
   "source": [
    "plt.scatter(x_train,y_train)\n",
    "plt.scatter(x_train,y_train_predict)\n",
    "plt.xlabel(\"Petal Length\")\n",
    "plt.ylabel(\"Petal Width\")\n",
    "plt.show()"
   ]
  },
  {
   "cell_type": "code",
   "execution_count": 23,
   "id": "c5389bcd",
   "metadata": {
    "execution": {
     "iopub.execute_input": "2024-03-02T10:11:33.881776Z",
     "iopub.status.busy": "2024-03-02T10:11:33.880801Z",
     "iopub.status.idle": "2024-03-02T10:11:34.161345Z",
     "shell.execute_reply": "2024-03-02T10:11:34.160004Z"
    },
    "papermill": {
     "duration": 0.302751,
     "end_time": "2024-03-02T10:11:34.163947",
     "exception": false,
     "start_time": "2024-03-02T10:11:33.861196",
     "status": "completed"
    },
    "tags": []
   },
   "outputs": [
    {
     "data": {
      "image/png": "[encoded data removed]",
      "text/plain": [
       "<Figure size 640x480 with 1 Axes>"
      ]
     },
     "metadata": {},
     "output_type": "display_data"
    }
   ],
   "source": [
    "plt.scatter(x_train,y_train)\n",
    "plt.scatter(x_train,y_train_predict)\n",
    "plt.plot(x_train,y_train_predict,color=\"black\")\n",
    "plt.xlabel(\"Petal Length\")\n",
    "plt.ylabel(\"Petal Width\")\n",
    "plt.show()\n"
   ]
  },
  {
   "cell_type": "markdown",
   "id": "9fd890e3",
   "metadata": {
    "papermill": {
     "duration": 0.016184,
     "end_time": "2024-03-02T10:11:34.196720",
     "exception": false,
     "start_time": "2024-03-02T10:11:34.180536",
     "status": "completed"
    },
    "tags": []
   },
   "source": [
    "**To Predict The Test data**"
   ]
  },
  {
   "cell_type": "code",
   "execution_count": 24,
   "id": "2cf32eaa",
   "metadata": {
    "execution": {
     "iopub.execute_input": "2024-03-02T10:11:34.232199Z",
     "iopub.status.busy": "2024-03-02T10:11:34.231479Z",
     "iopub.status.idle": "2024-03-02T10:11:34.245848Z",
     "shell.execute_reply": "2024-03-02T10:11:34.244696Z"
    },
    "papermill": {
     "duration": 0.035312,
     "end_time": "2024-03-02T10:11:34.248967",
     "exception": false,
     "start_time": "2024-03-02T10:11:34.213655",
     "status": "completed"
    },
    "tags": []
   },
   "outputs": [
    {
     "data": {
      "text/html": [
       "<div>\n",
       "<style scoped>\n",
       "    .dataframe tbody tr th:only-of-type {\n",
       "        vertical-align: middle;\n",
       "    }\n",
       "\n",
       "    .dataframe tbody tr th {\n",
       "        vertical-align: top;\n",
       "    }\n",
       "\n",
       "    .dataframe thead th {\n",
       "        text-align: right;\n",
       "    }\n",
       "</style>\n",
       "<table border=\"1\" class=\"dataframe\">\n",
       "  <thead>\n",
       "    <tr style=\"text-align: right;\">\n",
       "      <th></th>\n",
       "      <th>petal_length</th>\n",
       "      <th>petal_width</th>\n",
       "    </tr>\n",
       "  </thead>\n",
       "  <tbody>\n",
       "    <tr>\n",
       "      <th>0</th>\n",
       "      <td>1.4</td>\n",
       "      <td>0.2</td>\n",
       "    </tr>\n",
       "    <tr>\n",
       "      <th>1</th>\n",
       "      <td>1.4</td>\n",
       "      <td>0.2</td>\n",
       "    </tr>\n",
       "    <tr>\n",
       "      <th>2</th>\n",
       "      <td>1.3</td>\n",
       "      <td>0.2</td>\n",
       "    </tr>\n",
       "    <tr>\n",
       "      <th>3</th>\n",
       "      <td>1.5</td>\n",
       "      <td>0.2</td>\n",
       "    </tr>\n",
       "    <tr>\n",
       "      <th>4</th>\n",
       "      <td>1.4</td>\n",
       "      <td>0.2</td>\n",
       "    </tr>\n",
       "    <tr>\n",
       "      <th>...</th>\n",
       "      <td>...</td>\n",
       "      <td>...</td>\n",
       "    </tr>\n",
       "    <tr>\n",
       "      <th>145</th>\n",
       "      <td>5.2</td>\n",
       "      <td>2.3</td>\n",
       "    </tr>\n",
       "    <tr>\n",
       "      <th>146</th>\n",
       "      <td>5.0</td>\n",
       "      <td>1.9</td>\n",
       "    </tr>\n",
       "    <tr>\n",
       "      <th>147</th>\n",
       "      <td>5.2</td>\n",
       "      <td>2.0</td>\n",
       "    </tr>\n",
       "    <tr>\n",
       "      <th>148</th>\n",
       "      <td>5.4</td>\n",
       "      <td>2.3</td>\n",
       "    </tr>\n",
       "    <tr>\n",
       "      <th>149</th>\n",
       "      <td>5.1</td>\n",
       "      <td>1.8</td>\n",
       "    </tr>\n",
       "  </tbody>\n",
       "</table>\n",
       "<p>150 rows × 2 columns</p>\n",
       "</div>"
      ],
      "text/plain": [
       "     petal_length  petal_width\n",
       "0             1.4          0.2\n",
       "1             1.4          0.2\n",
       "2             1.3          0.2\n",
       "3             1.5          0.2\n",
       "4             1.4          0.2\n",
       "..            ...          ...\n",
       "145           5.2          2.3\n",
       "146           5.0          1.9\n",
       "147           5.2          2.0\n",
       "148           5.4          2.3\n",
       "149           5.1          1.8\n",
       "\n",
       "[150 rows x 2 columns]"
      ]
     },
     "execution_count": 24,
     "metadata": {},
     "output_type": "execute_result"
    }
   ],
   "source": [
    "iris"
   ]
  },
  {
   "cell_type": "code",
   "execution_count": 25,
   "id": "273adfb6",
   "metadata": {
    "execution": {
     "iopub.execute_input": "2024-03-02T10:11:34.285483Z",
     "iopub.status.busy": "2024-03-02T10:11:34.284634Z",
     "iopub.status.idle": "2024-03-02T10:11:34.292445Z",
     "shell.execute_reply": "2024-03-02T10:11:34.291438Z"
    },
    "papermill": {
     "duration": 0.028634,
     "end_time": "2024-03-02T10:11:34.294810",
     "exception": false,
     "start_time": "2024-03-02T10:11:34.266176",
     "status": "completed"
    },
    "tags": []
   },
   "outputs": [
    {
     "data": {
      "text/plain": [
       "array([[1.4],\n",
       "       [4.7],\n",
       "       [4.3],\n",
       "       [5.8],\n",
       "       [4.1],\n",
       "       [4. ],\n",
       "       [5.9],\n",
       "       [1.5],\n",
       "       [5.8],\n",
       "       [1.4],\n",
       "       [5.2],\n",
       "       [4.8],\n",
       "       [5. ],\n",
       "       [1.2],\n",
       "       [1.4],\n",
       "       [6.7],\n",
       "       [1.1],\n",
       "       [4.6],\n",
       "       [5.1],\n",
       "       [3.3],\n",
       "       [4.7],\n",
       "       [5.1],\n",
       "       [5.3],\n",
       "       [1.7],\n",
       "       [4.9],\n",
       "       [3.7],\n",
       "       [3. ],\n",
       "       [1.5],\n",
       "       [5.8],\n",
       "       [5.1]])"
      ]
     },
     "execution_count": 25,
     "metadata": {},
     "output_type": "execute_result"
    }
   ],
   "source": [
    "x_test"
   ]
  },
  {
   "cell_type": "code",
   "execution_count": 26,
   "id": "3ab12a9d",
   "metadata": {
    "execution": {
     "iopub.execute_input": "2024-03-02T10:11:34.331404Z",
     "iopub.status.busy": "2024-03-02T10:11:34.330585Z",
     "iopub.status.idle": "2024-03-02T10:11:34.338399Z",
     "shell.execute_reply": "2024-03-02T10:11:34.337242Z"
    },
    "papermill": {
     "duration": 0.0289,
     "end_time": "2024-03-02T10:11:34.340697",
     "exception": false,
     "start_time": "2024-03-02T10:11:34.311797",
     "status": "completed"
    },
    "tags": []
   },
   "outputs": [
    {
     "data": {
      "text/plain": [
       "array([1.91096093])"
      ]
     },
     "execution_count": 26,
     "metadata": {},
     "output_type": "execute_result"
    }
   ],
   "source": [
    "y_predict_test = lr.predict([[5.4]])\n",
    "y_predict_test"
   ]
  },
  {
   "cell_type": "code",
   "execution_count": 27,
   "id": "b1af7834",
   "metadata": {
    "execution": {
     "iopub.execute_input": "2024-03-02T10:11:34.380034Z",
     "iopub.status.busy": "2024-03-02T10:11:34.379244Z",
     "iopub.status.idle": "2024-03-02T10:11:34.386364Z",
     "shell.execute_reply": "2024-03-02T10:11:34.385318Z"
    },
    "papermill": {
     "duration": 0.028708,
     "end_time": "2024-03-02T10:11:34.388818",
     "exception": false,
     "start_time": "2024-03-02T10:11:34.360110",
     "status": "completed"
    },
    "tags": []
   },
   "outputs": [
    {
     "data": {
      "text/plain": [
       "array([0.22009961, 1.6150602 , 1.44597406, 2.08004706, 1.361431  ,\n",
       "       1.31915947, 2.12231859, 0.26237114, 2.08004706, 0.22009961,\n",
       "       1.82641786, 1.65733173, 1.7418748 , 0.13555654, 0.22009961,\n",
       "       2.46049086, 0.09328501, 1.57278866, 1.78414633, 1.02325873,\n",
       "       1.6150602 , 1.78414633, 1.86868939, 0.34691421, 1.69960326,\n",
       "       1.19234487, 0.89644414, 0.26237114, 2.08004706, 1.78414633])"
      ]
     },
     "execution_count": 27,
     "metadata": {},
     "output_type": "execute_result"
    }
   ],
   "source": [
    "y_predict_test = lr.predict(x_test)\n",
    "y_predict_test"
   ]
  },
  {
   "cell_type": "code",
   "execution_count": 28,
   "id": "54a54792",
   "metadata": {
    "execution": {
     "iopub.execute_input": "2024-03-02T10:11:34.426551Z",
     "iopub.status.busy": "2024-03-02T10:11:34.425794Z",
     "iopub.status.idle": "2024-03-02T10:11:34.692818Z",
     "shell.execute_reply": "2024-03-02T10:11:34.691901Z"
    },
    "papermill": {
     "duration": 0.288429,
     "end_time": "2024-03-02T10:11:34.695011",
     "exception": false,
     "start_time": "2024-03-02T10:11:34.406582",
     "status": "completed"
    },
    "tags": []
   },
   "outputs": [
    {
     "data": {
      "image/png": "[encoded data removed]",
      "text/plain": [
       "<Figure size 640x480 with 1 Axes>"
      ]
     },
     "metadata": {},
     "output_type": "display_data"
    }
   ],
   "source": [
    "#Hence the fully trained model is repesenting predictive results in graph form\n",
    "plt.scatter(x_test,y_test)\n",
    "plt.scatter(x_test,y_predict_test)\n",
    "plt.plot(x_test,y_predict_test,color=\"black\")\n",
    "plt.xlabel(\"Petal Length\")\n",
    "plt.ylabel(\"Petal Width\")\n",
    "plt.show()"
   ]
  },
  {
   "cell_type": "markdown",
   "id": "e38b2039",
   "metadata": {
    "papermill": {
     "duration": 0.017933,
     "end_time": "2024-03-02T10:11:34.791392",
     "exception": false,
     "start_time": "2024-03-02T10:11:34.773459",
     "status": "completed"
    },
    "tags": []
   },
   "source": [
    "**Thank You**"
   ]
  }
 ],
 "metadata": {
  "kaggle": {
   "accelerator": "none",
   "dataSources": [
    {
     "datasetId": 17860,
     "sourceId": 23404,
     "sourceType": "datasetVersion"
    }
   ],
   "dockerImageVersionId": 30664,
   "isGpuEnabled": false,
   "isInternetEnabled": false,
   "language": "python",
   "sourceType": "notebook"
  },
  "kernelspec": {
   "display_name": "Python 3",
   "language": "python",
   "name": "python3"
  },
  "language_info": {
   "codemirror_mode": {
    "name": "ipython",
    "version": 3
   },
   "file_extension": ".py",
   "mimetype": "text/x-python",
   "name": "python",
   "nbconvert_exporter": "python",
   "pygments_lexer": "ipython3",
   "version": "3.10.13"
  },
  "papermill": {
   "default_parameters": {},
   "duration": 9.699743,
   "end_time": "2024-03-02T10:11:35.431941",
   "environment_variables": {},
   "exception": null,
   "input_path": "__notebook__.ipynb",
   "output_path": "__notebook__.ipynb",
   "parameters": {},
   "start_time": "2024-03-02T10:11:25.732198",
   "version": "2.5.0"
  }
 },
 "nbformat": 4,
 "nbformat_minor": 5
}
