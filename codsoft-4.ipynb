{
 "cells": [
  {
   "cell_type": "code",
   "execution_count": 1,
   "id": "d1b28fba",
   "metadata": {
    "execution": {
     "iopub.execute_input": "2024-03-02T13:08:51.060255Z",
     "iopub.status.busy": "2024-03-02T13:08:51.059836Z",
     "iopub.status.idle": "2024-03-02T13:08:52.146803Z",
     "shell.execute_reply": "2024-03-02T13:08:52.145109Z"
    },
    "papermill": {
     "duration": 1.105036,
     "end_time": "2024-03-02T13:08:52.149764",
     "exception": false,
     "start_time": "2024-03-02T13:08:51.044728",
     "status": "completed"
    },
    "tags": []
   },
   "outputs": [
    {
     "name": "stdout",
     "output_type": "stream",
     "text": [
      "/kaggle/input/advertising-dataset/advertising.csv\n"
     ]
    }
   ],
   "source": [
    "# This Python 3 environment comes with many helpful analytics libraries installed\n",
    "# It is defined by the kaggle/python Docker image: https://github.com/kaggle/docker-python\n",
    "# For example, here's several helpful packages to load\n",
    "\n",
    "import numpy as np # linear algebra\n",
    "import pandas as pd # data processing, CSV file I/O (e.g. pd.read_csv)\n",
    "\n",
    "# Input data files are available in the read-only \"../input/\" directory\n",
    "# For example, running this (by clicking run or pressing Shift+Enter) will list all files under the input directory\n",
    "\n",
    "import os\n",
    "for dirname, _, filenames in os.walk('/kaggle/input'):\n",
    "    for filename in filenames:\n",
    "        print(os.path.join(dirname, filename))\n",
    "\n",
    "# You can write up to 20GB to the current directory (/kaggle/working/) that gets preserved as output when you create a version using \"Save & Run All\" \n",
    "# You can also write temporary files to /kaggle/temp/, but they won't be saved outside of the current session"
   ]
  },
  {
   "cell_type": "markdown",
   "id": "bc4f69b9",
   "metadata": {
    "papermill": {
     "duration": 0.011591,
     "end_time": "2024-03-02T13:08:52.173710",
     "exception": false,
     "start_time": "2024-03-02T13:08:52.162119",
     "status": "completed"
    },
    "tags": []
   },
   "source": [
    "**Import Necessary Libraries**"
   ]
  },
  {
   "cell_type": "code",
   "execution_count": 2,
   "id": "663a55b9",
   "metadata": {
    "execution": {
     "iopub.execute_input": "2024-03-02T13:08:52.200395Z",
     "iopub.status.busy": "2024-03-02T13:08:52.199751Z",
     "iopub.status.idle": "2024-03-02T13:08:54.340839Z",
     "shell.execute_reply": "2024-03-02T13:08:54.339353Z"
    },
    "papermill": {
     "duration": 2.158239,
     "end_time": "2024-03-02T13:08:54.344035",
     "exception": false,
     "start_time": "2024-03-02T13:08:52.185796",
     "status": "completed"
    },
    "tags": []
   },
   "outputs": [],
   "source": [
    "import pandas as pd \n",
    "import numpy as np \n",
    "import seaborn as sns\n",
    "import matplotlib.pyplot as plt\n",
    "from sklearn.model_selection import train_test_split\n",
    "from sklearn.linear_model import LinearRegression\n"
   ]
  },
  {
   "cell_type": "markdown",
   "id": "e27246ac",
   "metadata": {
    "papermill": {
     "duration": 0.011386,
     "end_time": "2024-03-02T13:08:54.367267",
     "exception": false,
     "start_time": "2024-03-02T13:08:54.355881",
     "status": "completed"
    },
    "tags": []
   },
   "source": [
    "**Loading The Dataset**"
   ]
  },
  {
   "cell_type": "code",
   "execution_count": 3,
   "id": "73278859",
   "metadata": {
    "execution": {
     "iopub.execute_input": "2024-03-02T13:08:54.392980Z",
     "iopub.status.busy": "2024-03-02T13:08:54.392490Z",
     "iopub.status.idle": "2024-03-02T13:08:54.429443Z",
     "shell.execute_reply": "2024-03-02T13:08:54.428110Z"
    },
    "papermill": {
     "duration": 0.053239,
     "end_time": "2024-03-02T13:08:54.432292",
     "exception": false,
     "start_time": "2024-03-02T13:08:54.379053",
     "status": "completed"
    },
    "tags": []
   },
   "outputs": [
    {
     "data": {
      "text/html": [
       "<div>\n",
       "<style scoped>\n",
       "    .dataframe tbody tr th:only-of-type {\n",
       "        vertical-align: middle;\n",
       "    }\n",
       "\n",
       "    .dataframe tbody tr th {\n",
       "        vertical-align: top;\n",
       "    }\n",
       "\n",
       "    .dataframe thead th {\n",
       "        text-align: right;\n",
       "    }\n",
       "</style>\n",
       "<table border=\"1\" class=\"dataframe\">\n",
       "  <thead>\n",
       "    <tr style=\"text-align: right;\">\n",
       "      <th></th>\n",
       "      <th>TV</th>\n",
       "      <th>Radio</th>\n",
       "      <th>Newspaper</th>\n",
       "      <th>Sales</th>\n",
       "    </tr>\n",
       "  </thead>\n",
       "  <tbody>\n",
       "    <tr>\n",
       "      <th>0</th>\n",
       "      <td>230.1</td>\n",
       "      <td>37.8</td>\n",
       "      <td>69.2</td>\n",
       "      <td>22.1</td>\n",
       "    </tr>\n",
       "    <tr>\n",
       "      <th>1</th>\n",
       "      <td>44.5</td>\n",
       "      <td>39.3</td>\n",
       "      <td>45.1</td>\n",
       "      <td>10.4</td>\n",
       "    </tr>\n",
       "    <tr>\n",
       "      <th>2</th>\n",
       "      <td>17.2</td>\n",
       "      <td>45.9</td>\n",
       "      <td>69.3</td>\n",
       "      <td>12.0</td>\n",
       "    </tr>\n",
       "    <tr>\n",
       "      <th>3</th>\n",
       "      <td>151.5</td>\n",
       "      <td>41.3</td>\n",
       "      <td>58.5</td>\n",
       "      <td>16.5</td>\n",
       "    </tr>\n",
       "    <tr>\n",
       "      <th>4</th>\n",
       "      <td>180.8</td>\n",
       "      <td>10.8</td>\n",
       "      <td>58.4</td>\n",
       "      <td>17.9</td>\n",
       "    </tr>\n",
       "  </tbody>\n",
       "</table>\n",
       "</div>"
      ],
      "text/plain": [
       "      TV  Radio  Newspaper  Sales\n",
       "0  230.1   37.8       69.2   22.1\n",
       "1   44.5   39.3       45.1   10.4\n",
       "2   17.2   45.9       69.3   12.0\n",
       "3  151.5   41.3       58.5   16.5\n",
       "4  180.8   10.8       58.4   17.9"
      ]
     },
     "execution_count": 3,
     "metadata": {},
     "output_type": "execute_result"
    }
   ],
   "source": [
    "df = pd.read_csv(\"/kaggle/input/advertising-dataset/advertising.csv\",encoding='latin')\n",
    "df.head()"
   ]
  },
  {
   "cell_type": "code",
   "execution_count": 4,
   "id": "aabf7b5e",
   "metadata": {
    "execution": {
     "iopub.execute_input": "2024-03-02T13:08:54.458921Z",
     "iopub.status.busy": "2024-03-02T13:08:54.458433Z",
     "iopub.status.idle": "2024-03-02T13:08:54.465456Z",
     "shell.execute_reply": "2024-03-02T13:08:54.464603Z"
    },
    "papermill": {
     "duration": 0.023163,
     "end_time": "2024-03-02T13:08:54.467571",
     "exception": false,
     "start_time": "2024-03-02T13:08:54.444408",
     "status": "completed"
    },
    "tags": []
   },
   "outputs": [
    {
     "data": {
      "text/plain": [
       "(200, 4)"
      ]
     },
     "execution_count": 4,
     "metadata": {},
     "output_type": "execute_result"
    }
   ],
   "source": [
    "df.shape"
   ]
  },
  {
   "cell_type": "markdown",
   "id": "e9634695",
   "metadata": {
    "papermill": {
     "duration": 0.011786,
     "end_time": "2024-03-02T13:08:54.491523",
     "exception": false,
     "start_time": "2024-03-02T13:08:54.479737",
     "status": "completed"
    },
    "tags": []
   },
   "source": [
    "**Understand The Dataset**"
   ]
  },
  {
   "cell_type": "code",
   "execution_count": 5,
   "id": "bb6ab37d",
   "metadata": {
    "execution": {
     "iopub.execute_input": "2024-03-02T13:08:54.521303Z",
     "iopub.status.busy": "2024-03-02T13:08:54.520773Z",
     "iopub.status.idle": "2024-03-02T13:08:54.551691Z",
     "shell.execute_reply": "2024-03-02T13:08:54.550445Z"
    },
    "papermill": {
     "duration": 0.048229,
     "end_time": "2024-03-02T13:08:54.554641",
     "exception": false,
     "start_time": "2024-03-02T13:08:54.506412",
     "status": "completed"
    },
    "tags": []
   },
   "outputs": [
    {
     "name": "stdout",
     "output_type": "stream",
     "text": [
      "<class 'pandas.core.frame.DataFrame'>\n",
      "RangeIndex: 200 entries, 0 to 199\n",
      "Data columns (total 4 columns):\n",
      " #   Column     Non-Null Count  Dtype  \n",
      "---  ------     --------------  -----  \n",
      " 0   TV         200 non-null    float64\n",
      " 1   Radio      200 non-null    float64\n",
      " 2   Newspaper  200 non-null    float64\n",
      " 3   Sales      200 non-null    float64\n",
      "dtypes: float64(4)\n",
      "memory usage: 6.4 KB\n"
     ]
    }
   ],
   "source": [
    "df.info()\n"
   ]
  },
  {
   "cell_type": "code",
   "execution_count": 6,
   "id": "f6d897fd",
   "metadata": {
    "execution": {
     "iopub.execute_input": "2024-03-02T13:08:54.584168Z",
     "iopub.status.busy": "2024-03-02T13:08:54.582742Z",
     "iopub.status.idle": "2024-03-02T13:08:54.611454Z",
     "shell.execute_reply": "2024-03-02T13:08:54.610248Z"
    },
    "papermill": {
     "duration": 0.04649,
     "end_time": "2024-03-02T13:08:54.613945",
     "exception": false,
     "start_time": "2024-03-02T13:08:54.567455",
     "status": "completed"
    },
    "tags": []
   },
   "outputs": [
    {
     "data": {
      "text/html": [
       "<div>\n",
       "<style scoped>\n",
       "    .dataframe tbody tr th:only-of-type {\n",
       "        vertical-align: middle;\n",
       "    }\n",
       "\n",
       "    .dataframe tbody tr th {\n",
       "        vertical-align: top;\n",
       "    }\n",
       "\n",
       "    .dataframe thead th {\n",
       "        text-align: right;\n",
       "    }\n",
       "</style>\n",
       "<table border=\"1\" class=\"dataframe\">\n",
       "  <thead>\n",
       "    <tr style=\"text-align: right;\">\n",
       "      <th></th>\n",
       "      <th>TV</th>\n",
       "      <th>Radio</th>\n",
       "      <th>Newspaper</th>\n",
       "      <th>Sales</th>\n",
       "    </tr>\n",
       "  </thead>\n",
       "  <tbody>\n",
       "    <tr>\n",
       "      <th>count</th>\n",
       "      <td>200.000000</td>\n",
       "      <td>200.000000</td>\n",
       "      <td>200.000000</td>\n",
       "      <td>200.000000</td>\n",
       "    </tr>\n",
       "    <tr>\n",
       "      <th>mean</th>\n",
       "      <td>147.042500</td>\n",
       "      <td>23.264000</td>\n",
       "      <td>30.554000</td>\n",
       "      <td>15.130500</td>\n",
       "    </tr>\n",
       "    <tr>\n",
       "      <th>std</th>\n",
       "      <td>85.854236</td>\n",
       "      <td>14.846809</td>\n",
       "      <td>21.778621</td>\n",
       "      <td>5.283892</td>\n",
       "    </tr>\n",
       "    <tr>\n",
       "      <th>min</th>\n",
       "      <td>0.700000</td>\n",
       "      <td>0.000000</td>\n",
       "      <td>0.300000</td>\n",
       "      <td>1.600000</td>\n",
       "    </tr>\n",
       "    <tr>\n",
       "      <th>25%</th>\n",
       "      <td>74.375000</td>\n",
       "      <td>9.975000</td>\n",
       "      <td>12.750000</td>\n",
       "      <td>11.000000</td>\n",
       "    </tr>\n",
       "    <tr>\n",
       "      <th>50%</th>\n",
       "      <td>149.750000</td>\n",
       "      <td>22.900000</td>\n",
       "      <td>25.750000</td>\n",
       "      <td>16.000000</td>\n",
       "    </tr>\n",
       "    <tr>\n",
       "      <th>75%</th>\n",
       "      <td>218.825000</td>\n",
       "      <td>36.525000</td>\n",
       "      <td>45.100000</td>\n",
       "      <td>19.050000</td>\n",
       "    </tr>\n",
       "    <tr>\n",
       "      <th>max</th>\n",
       "      <td>296.400000</td>\n",
       "      <td>49.600000</td>\n",
       "      <td>114.000000</td>\n",
       "      <td>27.000000</td>\n",
       "    </tr>\n",
       "  </tbody>\n",
       "</table>\n",
       "</div>"
      ],
      "text/plain": [
       "               TV       Radio   Newspaper       Sales\n",
       "count  200.000000  200.000000  200.000000  200.000000\n",
       "mean   147.042500   23.264000   30.554000   15.130500\n",
       "std     85.854236   14.846809   21.778621    5.283892\n",
       "min      0.700000    0.000000    0.300000    1.600000\n",
       "25%     74.375000    9.975000   12.750000   11.000000\n",
       "50%    149.750000   22.900000   25.750000   16.000000\n",
       "75%    218.825000   36.525000   45.100000   19.050000\n",
       "max    296.400000   49.600000  114.000000   27.000000"
      ]
     },
     "execution_count": 6,
     "metadata": {},
     "output_type": "execute_result"
    }
   ],
   "source": [
    "df.describe()"
   ]
  },
  {
   "cell_type": "code",
   "execution_count": 7,
   "id": "c259ca8a",
   "metadata": {
    "execution": {
     "iopub.execute_input": "2024-03-02T13:08:54.642960Z",
     "iopub.status.busy": "2024-03-02T13:08:54.642528Z",
     "iopub.status.idle": "2024-03-02T13:08:54.651734Z",
     "shell.execute_reply": "2024-03-02T13:08:54.650812Z"
    },
    "papermill": {
     "duration": 0.026912,
     "end_time": "2024-03-02T13:08:54.654104",
     "exception": false,
     "start_time": "2024-03-02T13:08:54.627192",
     "status": "completed"
    },
    "tags": []
   },
   "outputs": [
    {
     "data": {
      "text/plain": [
       "TV           0\n",
       "Radio        0\n",
       "Newspaper    0\n",
       "Sales        0\n",
       "dtype: int64"
      ]
     },
     "execution_count": 7,
     "metadata": {},
     "output_type": "execute_result"
    }
   ],
   "source": [
    "## Checking Null values\n",
    "df.isnull().sum()\n",
    "# There are no NULL values in the dataset, hence it is clean."
   ]
  },
  {
   "cell_type": "code",
   "execution_count": 8,
   "id": "b1971eb8",
   "metadata": {
    "execution": {
     "iopub.execute_input": "2024-03-02T13:08:54.683150Z",
     "iopub.status.busy": "2024-03-02T13:08:54.682477Z",
     "iopub.status.idle": "2024-03-02T13:08:54.700639Z",
     "shell.execute_reply": "2024-03-02T13:08:54.699279Z"
    },
    "papermill": {
     "duration": 0.035685,
     "end_time": "2024-03-02T13:08:54.703464",
     "exception": false,
     "start_time": "2024-03-02T13:08:54.667779",
     "status": "completed"
    },
    "tags": []
   },
   "outputs": [
    {
     "data": {
      "text/html": [
       "<div>\n",
       "<style scoped>\n",
       "    .dataframe tbody tr th:only-of-type {\n",
       "        vertical-align: middle;\n",
       "    }\n",
       "\n",
       "    .dataframe tbody tr th {\n",
       "        vertical-align: top;\n",
       "    }\n",
       "\n",
       "    .dataframe thead th {\n",
       "        text-align: right;\n",
       "    }\n",
       "</style>\n",
       "<table border=\"1\" class=\"dataframe\">\n",
       "  <thead>\n",
       "    <tr style=\"text-align: right;\">\n",
       "      <th></th>\n",
       "      <th>TV</th>\n",
       "      <th>Sales</th>\n",
       "    </tr>\n",
       "  </thead>\n",
       "  <tbody>\n",
       "    <tr>\n",
       "      <th>0</th>\n",
       "      <td>230.1</td>\n",
       "      <td>22.1</td>\n",
       "    </tr>\n",
       "    <tr>\n",
       "      <th>1</th>\n",
       "      <td>44.5</td>\n",
       "      <td>10.4</td>\n",
       "    </tr>\n",
       "    <tr>\n",
       "      <th>2</th>\n",
       "      <td>17.2</td>\n",
       "      <td>12.0</td>\n",
       "    </tr>\n",
       "    <tr>\n",
       "      <th>3</th>\n",
       "      <td>151.5</td>\n",
       "      <td>16.5</td>\n",
       "    </tr>\n",
       "    <tr>\n",
       "      <th>4</th>\n",
       "      <td>180.8</td>\n",
       "      <td>17.9</td>\n",
       "    </tr>\n",
       "    <tr>\n",
       "      <th>...</th>\n",
       "      <td>...</td>\n",
       "      <td>...</td>\n",
       "    </tr>\n",
       "    <tr>\n",
       "      <th>195</th>\n",
       "      <td>38.2</td>\n",
       "      <td>7.6</td>\n",
       "    </tr>\n",
       "    <tr>\n",
       "      <th>196</th>\n",
       "      <td>94.2</td>\n",
       "      <td>14.0</td>\n",
       "    </tr>\n",
       "    <tr>\n",
       "      <th>197</th>\n",
       "      <td>177.0</td>\n",
       "      <td>14.8</td>\n",
       "    </tr>\n",
       "    <tr>\n",
       "      <th>198</th>\n",
       "      <td>283.6</td>\n",
       "      <td>25.5</td>\n",
       "    </tr>\n",
       "    <tr>\n",
       "      <th>199</th>\n",
       "      <td>232.1</td>\n",
       "      <td>18.4</td>\n",
       "    </tr>\n",
       "  </tbody>\n",
       "</table>\n",
       "<p>200 rows × 2 columns</p>\n",
       "</div>"
      ],
      "text/plain": [
       "        TV  Sales\n",
       "0    230.1   22.1\n",
       "1     44.5   10.4\n",
       "2     17.2   12.0\n",
       "3    151.5   16.5\n",
       "4    180.8   17.9\n",
       "..     ...    ...\n",
       "195   38.2    7.6\n",
       "196   94.2   14.0\n",
       "197  177.0   14.8\n",
       "198  283.6   25.5\n",
       "199  232.1   18.4\n",
       "\n",
       "[200 rows x 2 columns]"
      ]
     },
     "execution_count": 8,
     "metadata": {},
     "output_type": "execute_result"
    }
   ],
   "source": [
    "df = df[[\"TV\",\"Sales\"]]\n",
    "df\n"
   ]
  },
  {
   "cell_type": "code",
   "execution_count": 9,
   "id": "09d98bd6",
   "metadata": {
    "execution": {
     "iopub.execute_input": "2024-03-02T13:08:54.733654Z",
     "iopub.status.busy": "2024-03-02T13:08:54.732971Z",
     "iopub.status.idle": "2024-03-02T13:08:54.738706Z",
     "shell.execute_reply": "2024-03-02T13:08:54.737887Z"
    },
    "papermill": {
     "duration": 0.023469,
     "end_time": "2024-03-02T13:08:54.740905",
     "exception": false,
     "start_time": "2024-03-02T13:08:54.717436",
     "status": "completed"
    },
    "tags": []
   },
   "outputs": [
    {
     "data": {
      "text/plain": [
       "(200, 2)"
      ]
     },
     "execution_count": 9,
     "metadata": {},
     "output_type": "execute_result"
    }
   ],
   "source": [
    "df.shape"
   ]
  },
  {
   "cell_type": "code",
   "execution_count": 10,
   "id": "10a875f4",
   "metadata": {
    "execution": {
     "iopub.execute_input": "2024-03-02T13:08:54.770220Z",
     "iopub.status.busy": "2024-03-02T13:08:54.769610Z",
     "iopub.status.idle": "2024-03-02T13:08:55.061083Z",
     "shell.execute_reply": "2024-03-02T13:08:55.059717Z"
    },
    "papermill": {
     "duration": 0.30969,
     "end_time": "2024-03-02T13:08:55.064194",
     "exception": false,
     "start_time": "2024-03-02T13:08:54.754504",
     "status": "completed"
    },
    "tags": []
   },
   "outputs": [
    {
     "data": {
      "image/png": "[encoded data removed]",
      "text/plain": [
       "<Figure size 640x480 with 1 Axes>"
      ]
     },
     "metadata": {},
     "output_type": "display_data"
    }
   ],
   "source": [
    "# to check the Outlier\n",
    "df.plot(kind=\"box\")\n",
    "plt.show()\n"
   ]
  },
  {
   "cell_type": "markdown",
   "id": "16101cb8",
   "metadata": {
    "papermill": {
     "duration": 0.013724,
     "end_time": "2024-03-02T13:08:55.092148",
     "exception": false,
     "start_time": "2024-03-02T13:08:55.078424",
     "status": "completed"
    },
    "tags": []
   },
   "source": [
    "**To Find The Correlation Coefficient**"
   ]
  },
  {
   "cell_type": "code",
   "execution_count": 11,
   "id": "bd272769",
   "metadata": {
    "execution": {
     "iopub.execute_input": "2024-03-02T13:08:55.122395Z",
     "iopub.status.busy": "2024-03-02T13:08:55.121903Z",
     "iopub.status.idle": "2024-03-02T13:08:55.137881Z",
     "shell.execute_reply": "2024-03-02T13:08:55.136490Z"
    },
    "papermill": {
     "duration": 0.034396,
     "end_time": "2024-03-02T13:08:55.140726",
     "exception": false,
     "start_time": "2024-03-02T13:08:55.106330",
     "status": "completed"
    },
    "tags": []
   },
   "outputs": [
    {
     "data": {
      "text/html": [
       "<div>\n",
       "<style scoped>\n",
       "    .dataframe tbody tr th:only-of-type {\n",
       "        vertical-align: middle;\n",
       "    }\n",
       "\n",
       "    .dataframe tbody tr th {\n",
       "        vertical-align: top;\n",
       "    }\n",
       "\n",
       "    .dataframe thead th {\n",
       "        text-align: right;\n",
       "    }\n",
       "</style>\n",
       "<table border=\"1\" class=\"dataframe\">\n",
       "  <thead>\n",
       "    <tr style=\"text-align: right;\">\n",
       "      <th></th>\n",
       "      <th>TV</th>\n",
       "      <th>Sales</th>\n",
       "    </tr>\n",
       "  </thead>\n",
       "  <tbody>\n",
       "    <tr>\n",
       "      <th>TV</th>\n",
       "      <td>1.000000</td>\n",
       "      <td>0.901208</td>\n",
       "    </tr>\n",
       "    <tr>\n",
       "      <th>Sales</th>\n",
       "      <td>0.901208</td>\n",
       "      <td>1.000000</td>\n",
       "    </tr>\n",
       "  </tbody>\n",
       "</table>\n",
       "</div>"
      ],
      "text/plain": [
       "             TV     Sales\n",
       "TV     1.000000  0.901208\n",
       "Sales  0.901208  1.000000"
      ]
     },
     "execution_count": 11,
     "metadata": {},
     "output_type": "execute_result"
    }
   ],
   "source": [
    "df.corr()\n"
   ]
  },
  {
   "cell_type": "markdown",
   "id": "ee078454",
   "metadata": {
    "papermill": {
     "duration": 0.013739,
     "end_time": "2024-03-02T13:08:55.168805",
     "exception": false,
     "start_time": "2024-03-02T13:08:55.155066",
     "status": "completed"
    },
    "tags": []
   },
   "source": []
  },
  {
   "cell_type": "code",
   "execution_count": 12,
   "id": "366a18b3",
   "metadata": {
    "execution": {
     "iopub.execute_input": "2024-03-02T13:08:55.199854Z",
     "iopub.status.busy": "2024-03-02T13:08:55.199405Z",
     "iopub.status.idle": "2024-03-02T13:08:55.207721Z",
     "shell.execute_reply": "2024-03-02T13:08:55.206225Z"
    },
    "papermill": {
     "duration": 0.027176,
     "end_time": "2024-03-02T13:08:55.210358",
     "exception": false,
     "start_time": "2024-03-02T13:08:55.183182",
     "status": "completed"
    },
    "tags": []
   },
   "outputs": [
    {
     "data": {
      "text/plain": [
       "Index(['TV', 'Sales'], dtype='object')"
      ]
     },
     "execution_count": 12,
     "metadata": {},
     "output_type": "execute_result"
    }
   ],
   "source": [
    "df.columns"
   ]
  },
  {
   "cell_type": "code",
   "execution_count": 13,
   "id": "37b6ddea",
   "metadata": {
    "execution": {
     "iopub.execute_input": "2024-03-02T13:08:55.241077Z",
     "iopub.status.busy": "2024-03-02T13:08:55.240603Z",
     "iopub.status.idle": "2024-03-02T13:08:55.246623Z",
     "shell.execute_reply": "2024-03-02T13:08:55.244980Z"
    },
    "papermill": {
     "duration": 0.024793,
     "end_time": "2024-03-02T13:08:55.249445",
     "exception": false,
     "start_time": "2024-03-02T13:08:55.224652",
     "status": "completed"
    },
    "tags": []
   },
   "outputs": [],
   "source": [
    "x = df[\"TV\"]\n",
    "y = df[\"Sales\"]\n"
   ]
  },
  {
   "cell_type": "code",
   "execution_count": 14,
   "id": "85360dc5",
   "metadata": {
    "execution": {
     "iopub.execute_input": "2024-03-02T13:08:55.281124Z",
     "iopub.status.busy": "2024-03-02T13:08:55.280632Z",
     "iopub.status.idle": "2024-03-02T13:08:55.553403Z",
     "shell.execute_reply": "2024-03-02T13:08:55.552338Z"
    },
    "papermill": {
     "duration": 0.291494,
     "end_time": "2024-03-02T13:08:55.555780",
     "exception": false,
     "start_time": "2024-03-02T13:08:55.264286",
     "status": "completed"
    },
    "tags": []
   },
   "outputs": [
    {
     "data": {
      "image/png": "[encoded data removed]",
      "text/plain": [
       "<Figure size 640x480 with 1 Axes>"
      ]
     },
     "metadata": {},
     "output_type": "display_data"
    }
   ],
   "source": [
    "plt.scatter(x,y)\n",
    "plt.xlabel(\"TV\")\n",
    "plt.xlabel(\"Sales\")\n",
    "plt.show()\n"
   ]
  },
  {
   "cell_type": "markdown",
   "id": "2e1214fe",
   "metadata": {
    "papermill": {
     "duration": 0.014482,
     "end_time": "2024-03-02T13:08:55.585010",
     "exception": false,
     "start_time": "2024-03-02T13:08:55.570528",
     "status": "completed"
    },
    "tags": []
   },
   "source": [
    "**Splitting The Dataset Into Train data and Test data**"
   ]
  },
  {
   "cell_type": "code",
   "execution_count": 15,
   "id": "4632a3ad",
   "metadata": {
    "execution": {
     "iopub.execute_input": "2024-03-02T13:08:55.618130Z",
     "iopub.status.busy": "2024-03-02T13:08:55.617688Z",
     "iopub.status.idle": "2024-03-02T13:08:55.633453Z",
     "shell.execute_reply": "2024-03-02T13:08:55.632088Z"
    },
    "papermill": {
     "duration": 0.035814,
     "end_time": "2024-03-02T13:08:55.636109",
     "exception": false,
     "start_time": "2024-03-02T13:08:55.600295",
     "status": "completed"
    },
    "tags": []
   },
   "outputs": [
    {
     "data": {
      "text/plain": [
       "152    197.6\n",
       "67     139.3\n",
       "133    219.8\n",
       "59     210.7\n",
       "63     102.7\n",
       "       ...  \n",
       "148     38.0\n",
       "137    273.7\n",
       "156     93.9\n",
       "15     195.4\n",
       "99     135.2\n",
       "Name: TV, Length: 160, dtype: float64"
      ]
     },
     "execution_count": 15,
     "metadata": {},
     "output_type": "execute_result"
    }
   ],
   "source": [
    "x_train,x_test,y_train,y_test = train_test_split(x,y,test_size = 0.2 , random_state=20)\n",
    "x_train"
   ]
  },
  {
   "cell_type": "markdown",
   "id": "bfd36f61",
   "metadata": {
    "papermill": {
     "duration": 0.015017,
     "end_time": "2024-03-02T13:08:55.666093",
     "exception": false,
     "start_time": "2024-03-02T13:08:55.651076",
     "status": "completed"
    },
    "tags": []
   },
   "source": [
    "**Changing The Input Data Into Two Dimensional Array**"
   ]
  },
  {
   "cell_type": "code",
   "execution_count": 16,
   "id": "a71995b9",
   "metadata": {
    "execution": {
     "iopub.execute_input": "2024-03-02T13:08:55.698437Z",
     "iopub.status.busy": "2024-03-02T13:08:55.697974Z",
     "iopub.status.idle": "2024-03-02T13:08:55.710022Z",
     "shell.execute_reply": "2024-03-02T13:08:55.708722Z"
    },
    "papermill": {
     "duration": 0.031049,
     "end_time": "2024-03-02T13:08:55.712253",
     "exception": false,
     "start_time": "2024-03-02T13:08:55.681204",
     "status": "completed"
    },
    "tags": []
   },
   "outputs": [
    {
     "data": {
      "text/plain": [
       "array([[197.6],\n",
       "       [139.3],\n",
       "       [219.8],\n",
       "       [210.7],\n",
       "       [102.7],\n",
       "       [253.8],\n",
       "       [222.4],\n",
       "       [224. ],\n",
       "       [241.7],\n",
       "       [  0.7],\n",
       "       [ 23.8],\n",
       "       [ 59.6],\n",
       "       [100.4],\n",
       "       [171.3],\n",
       "       [ 88.3],\n",
       "       [ 44.5],\n",
       "       [198.9],\n",
       "       [ 76.4],\n",
       "       [ 11.7],\n",
       "       [131.1],\n",
       "       [ 36.9],\n",
       "       [239.3],\n",
       "       [218.4],\n",
       "       [237.4],\n",
       "       [175.1],\n",
       "       [220.3],\n",
       "       [217.7],\n",
       "       [ 75.5],\n",
       "       [ 70.6],\n",
       "       [134.3],\n",
       "       [290.7],\n",
       "       [ 90.4],\n",
       "       [ 28.6],\n",
       "       [238.2],\n",
       "       [234.5],\n",
       "       [237.4],\n",
       "       [ 74.7],\n",
       "       [289.7],\n",
       "       [230.1],\n",
       "       [177. ],\n",
       "       [214.7],\n",
       "       [ 48.3],\n",
       "       [ 66.9],\n",
       "       [292.9],\n",
       "       [ 69. ],\n",
       "       [283.6],\n",
       "       [ 31.5],\n",
       "       [187.9],\n",
       "       [177. ],\n",
       "       [165.6],\n",
       "       [ 76.4],\n",
       "       [136.2],\n",
       "       [ 17.2],\n",
       "       [216.8],\n",
       "       [213.4],\n",
       "       [199.8],\n",
       "       [ 13.1],\n",
       "       [117.2],\n",
       "       [210.8],\n",
       "       [222.4],\n",
       "       [  7.3],\n",
       "       [112.9],\n",
       "       [204.1],\n",
       "       [141.3],\n",
       "       [110.7],\n",
       "       [228. ],\n",
       "       [ 25. ],\n",
       "       [280.2],\n",
       "       [121. ],\n",
       "       [129.4],\n",
       "       [239.8],\n",
       "       [262.7],\n",
       "       [229.5],\n",
       "       [ 73.4],\n",
       "       [ 27.5],\n",
       "       [197.6],\n",
       "       [216.4],\n",
       "       [228.3],\n",
       "       [ 19.4],\n",
       "       [  8.4],\n",
       "       [199.8],\n",
       "       [ 43.1],\n",
       "       [168.4],\n",
       "       [182.6],\n",
       "       [163.3],\n",
       "       [ 87.2],\n",
       "       [227.2],\n",
       "       [139.2],\n",
       "       [147.3],\n",
       "       [266.9],\n",
       "       [ 80.2],\n",
       "       [123.1],\n",
       "       [ 53.5],\n",
       "       [187.8],\n",
       "       [156.6],\n",
       "       [ 18.7],\n",
       "       [281.4],\n",
       "       [ 78.2],\n",
       "       [ 43. ],\n",
       "       [ 75.1],\n",
       "       [131.7],\n",
       "       [ 75.3],\n",
       "       [218.5],\n",
       "       [172.5],\n",
       "       [  8.6],\n",
       "       [163.5],\n",
       "       [240.1],\n",
       "       [180.8],\n",
       "       [220.5],\n",
       "       [166.8],\n",
       "       [199.1],\n",
       "       [ 85.7],\n",
       "       [284.3],\n",
       "       [107.4],\n",
       "       [293.6],\n",
       "       [265.6],\n",
       "       [250.9],\n",
       "       [240.1],\n",
       "       [ 62.3],\n",
       "       [  5.4],\n",
       "       [ 19.6],\n",
       "       [149.8],\n",
       "       [ 39.5],\n",
       "       [164.5],\n",
       "       [116. ],\n",
       "       [ 50. ],\n",
       "       [139.5],\n",
       "       [206.9],\n",
       "       [140.3],\n",
       "       [151.5],\n",
       "       [ 69.2],\n",
       "       [149.7],\n",
       "       [ 56.2],\n",
       "       [ 66.1],\n",
       "       [ 97.2],\n",
       "       [225.8],\n",
       "       [ 68.4],\n",
       "       [261.3],\n",
       "       [265.2],\n",
       "       [262.9],\n",
       "       [193.7],\n",
       "       [286. ],\n",
       "       [ 57.5],\n",
       "       [120.2],\n",
       "       [296.4],\n",
       "       [137.9],\n",
       "       [ 96.2],\n",
       "       [ 67.8],\n",
       "       [142.9],\n",
       "       [202.5],\n",
       "       [125.7],\n",
       "       [188.4],\n",
       "       [109.8],\n",
       "       [ 13.2],\n",
       "       [ 16.9],\n",
       "       [ 38. ],\n",
       "       [273.7],\n",
       "       [ 93.9],\n",
       "       [195.4],\n",
       "       [135.2]])"
      ]
     },
     "execution_count": 16,
     "metadata": {},
     "output_type": "execute_result"
    }
   ],
   "source": [
    "x_train = np.array(x_train).reshape(-1,1)\n",
    "x_train\n"
   ]
  },
  {
   "cell_type": "code",
   "execution_count": 17,
   "id": "4e3e82d5",
   "metadata": {
    "execution": {
     "iopub.execute_input": "2024-03-02T13:08:55.744967Z",
     "iopub.status.busy": "2024-03-02T13:08:55.744549Z",
     "iopub.status.idle": "2024-03-02T13:08:55.752589Z",
     "shell.execute_reply": "2024-03-02T13:08:55.751752Z"
    },
    "papermill": {
     "duration": 0.028039,
     "end_time": "2024-03-02T13:08:55.755743",
     "exception": false,
     "start_time": "2024-03-02T13:08:55.727704",
     "status": "completed"
    },
    "tags": []
   },
   "outputs": [
    {
     "data": {
      "text/plain": [
       "array([[280.7],\n",
       "       [248.8],\n",
       "       [ 97.5],\n",
       "       [276.7],\n",
       "       [255.4],\n",
       "       [215.4],\n",
       "       [170.2],\n",
       "       [ 94.2],\n",
       "       [239.9],\n",
       "       [ 38.2],\n",
       "       [ 25.6],\n",
       "       [120.5],\n",
       "       [191.1],\n",
       "       [ 17.9],\n",
       "       [213.5],\n",
       "       [276.9],\n",
       "       [  4.1],\n",
       "       [206.8],\n",
       "       [ 18.8],\n",
       "       [ 17.2],\n",
       "       [248.4],\n",
       "       [209.6],\n",
       "       [109.8],\n",
       "       [243.2],\n",
       "       [205. ],\n",
       "       [104.6],\n",
       "       [232.1],\n",
       "       [  7.8],\n",
       "       [  8.7],\n",
       "       [184.9],\n",
       "       [ 95.7],\n",
       "       [184.9],\n",
       "       [ 25.1],\n",
       "       [ 26.8],\n",
       "       [287.6],\n",
       "       [193.2],\n",
       "       [ 44.7],\n",
       "       [ 89.7],\n",
       "       [ 76.3],\n",
       "       [175.7]])"
      ]
     },
     "execution_count": 17,
     "metadata": {},
     "output_type": "execute_result"
    }
   ],
   "source": [
    "x_test = np.array(x_test).reshape(-1,1)\n",
    "x_test\n"
   ]
  },
  {
   "cell_type": "markdown",
   "id": "1c19df00",
   "metadata": {
    "papermill": {
     "duration": 0.015214,
     "end_time": "2024-03-02T13:08:55.787545",
     "exception": false,
     "start_time": "2024-03-02T13:08:55.772331",
     "status": "completed"
    },
    "tags": []
   },
   "source": [
    "**To Implement The Linear Regression**"
   ]
  },
  {
   "cell_type": "code",
   "execution_count": 18,
   "id": "75cdd999",
   "metadata": {
    "execution": {
     "iopub.execute_input": "2024-03-02T13:08:55.821580Z",
     "iopub.status.busy": "2024-03-02T13:08:55.821148Z",
     "iopub.status.idle": "2024-03-02T13:08:55.846270Z",
     "shell.execute_reply": "2024-03-02T13:08:55.845062Z"
    },
    "papermill": {
     "duration": 0.045047,
     "end_time": "2024-03-02T13:08:55.848768",
     "exception": false,
     "start_time": "2024-03-02T13:08:55.803721",
     "status": "completed"
    },
    "tags": []
   },
   "outputs": [
    {
     "data": {
      "text/html": [
       "<style>#sk-container-id-1 {color: black;background-color: white;}#sk-container-id-1 pre{padding: 0;}#sk-container-id-1 div.sk-toggleable {background-color: white;}#sk-container-id-1 label.sk-toggleable__label {cursor: pointer;display: block;width: 100%;margin-bottom: 0;padding: 0.3em;box-sizing: border-box;text-align: center;}#sk-container-id-1 label.sk-toggleable__label-arrow:before {content: \"▸\";float: left;margin-right: 0.25em;color: #696969;}#sk-container-id-1 label.sk-toggleable__label-arrow:hover:before {color: black;}#sk-container-id-1 div.sk-estimator:hover label.sk-toggleable__label-arrow:before {color: black;}#sk-container-id-1 div.sk-toggleable__content {max-height: 0;max-width: 0;overflow: hidden;text-align: left;background-color: #f0f8ff;}#sk-container-id-1 div.sk-toggleable__content pre {margin: 0.2em;color: black;border-radius: 0.25em;background-color: #f0f8ff;}#sk-container-id-1 input.sk-toggleable__control:checked~div.sk-toggleable__content {max-height: 200px;max-width: 100%;overflow: auto;}#sk-container-id-1 input.sk-toggleable__control:checked~label.sk-toggleable__label-arrow:before {content: \"▾\";}#sk-container-id-1 div.sk-estimator input.sk-toggleable__control:checked~label.sk-toggleable__label {background-color: #d4ebff;}#sk-container-id-1 div.sk-label input.sk-toggleable__control:checked~label.sk-toggleable__label {background-color: #d4ebff;}#sk-container-id-1 input.sk-hidden--visually {border: 0;clip: rect(1px 1px 1px 1px);clip: rect(1px, 1px, 1px, 1px);height: 1px;margin: -1px;overflow: hidden;padding: 0;position: absolute;width: 1px;}#sk-container-id-1 div.sk-estimator {font-family: monospace;background-color: #f0f8ff;border: 1px dotted black;border-radius: 0.25em;box-sizing: border-box;margin-bottom: 0.5em;}#sk-container-id-1 div.sk-estimator:hover {background-color: #d4ebff;}#sk-container-id-1 div.sk-parallel-item::after {content: \"\";width: 100%;border-bottom: 1px solid gray;flex-grow: 1;}#sk-container-id-1 div.sk-label:hover label.sk-toggleable__label {background-color: #d4ebff;}#sk-container-id-1 div.sk-serial::before {content: \"\";position: absolute;border-left: 1px solid gray;box-sizing: border-box;top: 0;bottom: 0;left: 50%;z-index: 0;}#sk-container-id-1 div.sk-serial {display: flex;flex-direction: column;align-items: center;background-color: white;padding-right: 0.2em;padding-left: 0.2em;position: relative;}#sk-container-id-1 div.sk-item {position: relative;z-index: 1;}#sk-container-id-1 div.sk-parallel {display: flex;align-items: stretch;justify-content: center;background-color: white;position: relative;}#sk-container-id-1 div.sk-item::before, #sk-container-id-1 div.sk-parallel-item::before {content: \"\";position: absolute;border-left: 1px solid gray;box-sizing: border-box;top: 0;bottom: 0;left: 50%;z-index: -1;}#sk-container-id-1 div.sk-parallel-item {display: flex;flex-direction: column;z-index: 1;position: relative;background-color: white;}#sk-container-id-1 div.sk-parallel-item:first-child::after {align-self: flex-end;width: 50%;}#sk-container-id-1 div.sk-parallel-item:last-child::after {align-self: flex-start;width: 50%;}#sk-container-id-1 div.sk-parallel-item:only-child::after {width: 0;}#sk-container-id-1 div.sk-dashed-wrapped {border: 1px dashed gray;margin: 0 0.4em 0.5em 0.4em;box-sizing: border-box;padding-bottom: 0.4em;background-color: white;}#sk-container-id-1 div.sk-label label {font-family: monospace;font-weight: bold;display: inline-block;line-height: 1.2em;}#sk-container-id-1 div.sk-label-container {text-align: center;}#sk-container-id-1 div.sk-container {/* jupyter's `normalize.less` sets `[hidden] { display: none; }` but bootstrap.min.css set `[hidden] { display: none !important; }` so we also need the `!important` here to be able to override the default hidden behavior on the sphinx rendered scikit-learn.org. See: https://github.com/scikit-learn/scikit-learn/issues/21755 */display: inline-block !important;position: relative;}#sk-container-id-1 div.sk-text-repr-fallback {display: none;}</style><div id=\"sk-container-id-1\" class=\"sk-top-container\"><div class=\"sk-text-repr-fallback\"><pre>LinearRegression()</pre><b>In a Jupyter environment, please rerun this cell to show the HTML representation or trust the notebook. <br />On GitHub, the HTML representation is unable to render, please try loading this page with nbviewer.org.</b></div><div class=\"sk-container\" hidden><div class=\"sk-item\"><div class=\"sk-estimator sk-toggleable\"><input class=\"sk-toggleable__control sk-hidden--visually\" id=\"sk-estimator-id-1\" type=\"checkbox\" checked><label for=\"sk-estimator-id-1\" class=\"sk-toggleable__label sk-toggleable__label-arrow\">LinearRegression</label><div class=\"sk-toggleable__content\"><pre>LinearRegression()</pre></div></div></div></div></div>"
      ],
      "text/plain": [
       "LinearRegression()"
      ]
     },
     "execution_count": 18,
     "metadata": {},
     "output_type": "execute_result"
    }
   ],
   "source": [
    "lr= LinearRegression()\n",
    "lr.fit(x_train,y_train)"
   ]
  },
  {
   "cell_type": "code",
   "execution_count": 19,
   "id": "3a96c1ff",
   "metadata": {
    "execution": {
     "iopub.execute_input": "2024-03-02T13:08:55.882141Z",
     "iopub.status.busy": "2024-03-02T13:08:55.881642Z",
     "iopub.status.idle": "2024-03-02T13:08:55.889807Z",
     "shell.execute_reply": "2024-03-02T13:08:55.888420Z"
    },
    "papermill": {
     "duration": 0.027937,
     "end_time": "2024-03-02T13:08:55.892288",
     "exception": false,
     "start_time": "2024-03-02T13:08:55.864351",
     "status": "completed"
    },
    "tags": []
   },
   "outputs": [
    {
     "data": {
      "text/plain": [
       "7.079222818073074"
      ]
     },
     "execution_count": 19,
     "metadata": {},
     "output_type": "execute_result"
    }
   ],
   "source": [
    "#To find the intercept\n",
    "c = lr.intercept_\n",
    "c\n"
   ]
  },
  {
   "cell_type": "code",
   "execution_count": 20,
   "id": "21139cbc",
   "metadata": {
    "execution": {
     "iopub.execute_input": "2024-03-02T13:08:55.929333Z",
     "iopub.status.busy": "2024-03-02T13:08:55.928246Z",
     "iopub.status.idle": "2024-03-02T13:08:55.938184Z",
     "shell.execute_reply": "2024-03-02T13:08:55.937086Z"
    },
    "papermill": {
     "duration": 0.033896,
     "end_time": "2024-03-02T13:08:55.942102",
     "exception": false,
     "start_time": "2024-03-02T13:08:55.908206",
     "status": "completed"
    },
    "tags": []
   },
   "outputs": [
    {
     "data": {
      "text/plain": [
       "array([0.05428243])"
      ]
     },
     "execution_count": 20,
     "metadata": {},
     "output_type": "execute_result"
    }
   ],
   "source": [
    "#To find the coefficient\n",
    "m=lr.coef_\n",
    "m\n"
   ]
  },
  {
   "cell_type": "markdown",
   "id": "91fe74ac",
   "metadata": {
    "papermill": {
     "duration": 0.018855,
     "end_time": "2024-03-02T13:08:55.977686",
     "exception": false,
     "start_time": "2024-03-02T13:08:55.958831",
     "status": "completed"
    },
    "tags": []
   },
   "source": [
    "**To predict the Simple Linear Regression**"
   ]
  },
  {
   "cell_type": "code",
   "execution_count": 21,
   "id": "096a4612",
   "metadata": {
    "execution": {
     "iopub.execute_input": "2024-03-02T13:08:56.017100Z",
     "iopub.status.busy": "2024-03-02T13:08:56.016283Z",
     "iopub.status.idle": "2024-03-02T13:08:56.027713Z",
     "shell.execute_reply": "2024-03-02T13:08:56.026385Z"
    },
    "papermill": {
     "duration": 0.033462,
     "end_time": "2024-03-02T13:08:56.030428",
     "exception": false,
     "start_time": "2024-03-02T13:08:55.996966",
     "status": "completed"
    },
    "tags": []
   },
   "outputs": [
    {
     "data": {
      "text/plain": [
       "array([17.80543104, 14.64076536, 19.010501  , 18.51653088, 12.65402841,\n",
       "       20.85610363, 19.15163532, 19.2384872 , 20.19928622,  7.11722052,\n",
       "        8.37114466, 10.31445566, 12.52917882, 16.37780313, 11.87236141,\n",
       "        9.49479097, 17.8759982 , 11.22640049,  7.71432725, 14.19564943,\n",
       "        9.0822445 , 20.06900839, 18.93450559, 19.96587177, 16.58407636,\n",
       "       19.03764221, 18.89650789, 11.17754631, 10.9115624 , 14.36935321,\n",
       "       22.85912531, 11.98635452,  8.63170032, 20.00929771, 19.80845272,\n",
       "       19.96587177, 11.13412036, 22.80484288, 19.56961003, 16.68721298,\n",
       "       18.7336606 ,  9.7010642 , 10.7107174 , 22.97854665, 10.82471051,\n",
       "       22.47372005,  8.78911937, 17.27889147, 16.68721298, 16.06839328,\n",
       "       11.22640049, 14.47248982,  8.01288062, 18.84765371, 18.66309344,\n",
       "       17.92485239,  7.79032265, 13.44112365, 18.52195912, 19.15163532,\n",
       "        7.47548456, 13.2077092 , 18.15826684, 14.74933022, 13.08828785,\n",
       "       19.45561693,  8.43628358, 22.28915979, 13.64739688, 14.1033693 ,\n",
       "       20.0961496 , 21.33921726, 19.53704057, 11.0635532 ,  8.57198965,\n",
       "       17.80543104, 18.82594073, 19.47190165,  8.13230197,  7.53519523,\n",
       "       17.92485239,  9.41879556, 16.22038408, 16.99119459, 15.94354369,\n",
       "       11.81265074, 19.41219098, 14.63533712, 15.0750248 , 21.56720346,\n",
       "       11.43267373, 13.76138999,  9.98333284, 17.27346323, 15.5798514 ,\n",
       "        8.09430426, 22.3542987 , 11.32410887,  9.41336732, 11.15583333,\n",
       "       14.22821889, 11.16668982, 18.93993384, 16.44294204,  7.54605172,\n",
       "       15.95440017, 20.11243433, 16.89348622, 19.0484987 , 16.13353219,\n",
       "       17.88685469, 11.73122709, 22.51171775, 12.90915583, 23.01654435,\n",
       "       21.49663631, 20.69868458, 20.11243433, 10.46101823,  7.37234794,\n",
       "        8.14315845, 15.21073088,  9.22337881, 16.0086826 , 13.37598473,\n",
       "        9.79334433, 14.65162184, 18.31025765, 14.69504779, 15.30301101,\n",
       "       10.83556699, 15.20530263, 10.1298954 , 10.66729146, 12.35547504,\n",
       "       19.33619558, 10.79214105, 21.26322185, 21.47492333, 21.35007374,\n",
       "       17.59372957, 22.60399788, 10.20046256, 13.60397094, 23.16853516,\n",
       "       14.56476996, 12.30119261, 10.75957159, 14.83618211, 18.07141495,\n",
       "       13.90252431, 17.30603269, 13.03943366,  7.7957509 ,  7.99659589,\n",
       "        9.14195517, 21.93632399, 12.17634302, 17.6860097 , 14.41820739])"
      ]
     },
     "execution_count": 21,
     "metadata": {},
     "output_type": "execute_result"
    }
   ],
   "source": [
    "y_train_predict = lr.predict(x_train)\n",
    "y_train_predict\n"
   ]
  },
  {
   "cell_type": "code",
   "execution_count": 22,
   "id": "daf462b8",
   "metadata": {
    "execution": {
     "iopub.execute_input": "2024-03-02T13:08:56.065978Z",
     "iopub.status.busy": "2024-03-02T13:08:56.064647Z",
     "iopub.status.idle": "2024-03-02T13:08:56.351689Z",
     "shell.execute_reply": "2024-03-02T13:08:56.350322Z"
    },
    "papermill": {
     "duration": 0.307902,
     "end_time": "2024-03-02T13:08:56.354638",
     "exception": false,
     "start_time": "2024-03-02T13:08:56.046736",
     "status": "completed"
    },
    "tags": []
   },
   "outputs": [
    {
     "data": {
      "image/png": "[encoded data removed]",
      "text/plain": [
       "<Figure size 640x480 with 1 Axes>"
      ]
     },
     "metadata": {},
     "output_type": "display_data"
    }
   ],
   "source": [
    "plt.scatter(x_train,y_train)\n",
    "plt.xlabel(\"TV\")\n",
    "plt.ylabel(\"Sales\")\n",
    "plt.show()"
   ]
  },
  {
   "cell_type": "code",
   "execution_count": 23,
   "id": "a1ed7624",
   "metadata": {
    "execution": {
     "iopub.execute_input": "2024-03-02T13:08:56.392900Z",
     "iopub.status.busy": "2024-03-02T13:08:56.392112Z",
     "iopub.status.idle": "2024-03-02T13:08:56.622924Z",
     "shell.execute_reply": "2024-03-02T13:08:56.621681Z"
    },
    "papermill": {
     "duration": 0.25397,
     "end_time": "2024-03-02T13:08:56.625569",
     "exception": false,
     "start_time": "2024-03-02T13:08:56.371599",
     "status": "completed"
    },
    "tags": []
   },
   "outputs": [
    {
     "data": {
      "image/png": "[encoded data removed]",
      "text/plain": [
       "<Figure size 640x480 with 1 Axes>"
      ]
     },
     "metadata": {},
     "output_type": "display_data"
    }
   ],
   "source": [
    "plt.scatter(x_train,y_train)\n",
    "plt.scatter(x_train,y_train_predict)\n",
    "plt.xlabel(\"TV\")\n",
    "plt.ylabel(\"Sales\")\n",
    "plt.show()"
   ]
  },
  {
   "cell_type": "code",
   "execution_count": 24,
   "id": "23816dce",
   "metadata": {
    "execution": {
     "iopub.execute_input": "2024-03-02T13:08:56.663548Z",
     "iopub.status.busy": "2024-03-02T13:08:56.662788Z",
     "iopub.status.idle": "2024-03-02T13:08:56.866357Z",
     "shell.execute_reply": "2024-03-02T13:08:56.865478Z"
    },
    "papermill": {
     "duration": 0.22553,
     "end_time": "2024-03-02T13:08:56.868582",
     "exception": false,
     "start_time": "2024-03-02T13:08:56.643052",
     "status": "completed"
    },
    "tags": []
   },
   "outputs": [
    {
     "data": {
      "image/png": "[encoded data removed]",
      "text/plain": [
       "<Figure size 640x480 with 1 Axes>"
      ]
     },
     "metadata": {},
     "output_type": "display_data"
    }
   ],
   "source": [
    "plt.scatter(x_train,y_train)\n",
    "plt.scatter(x_train,y_train_predict)\n",
    "plt.plot(x_train,y_train_predict,color=\"yellow\")\n",
    "plt.xlabel(\"TV\")\n",
    "plt.ylabel(\"Sales\")\n",
    "plt.show()\n"
   ]
  },
  {
   "cell_type": "markdown",
   "id": "d820b3a2",
   "metadata": {
    "papermill": {
     "duration": 0.01741,
     "end_time": "2024-03-02T13:08:56.904381",
     "exception": false,
     "start_time": "2024-03-02T13:08:56.886971",
     "status": "completed"
    },
    "tags": []
   },
   "source": [
    "**To Predict The Test data**"
   ]
  },
  {
   "cell_type": "code",
   "execution_count": 25,
   "id": "5c34600c",
   "metadata": {
    "execution": {
     "iopub.execute_input": "2024-03-02T13:08:56.943206Z",
     "iopub.status.busy": "2024-03-02T13:08:56.941564Z",
     "iopub.status.idle": "2024-03-02T13:08:56.956669Z",
     "shell.execute_reply": "2024-03-02T13:08:56.955668Z"
    },
    "papermill": {
     "duration": 0.037169,
     "end_time": "2024-03-02T13:08:56.958975",
     "exception": false,
     "start_time": "2024-03-02T13:08:56.921806",
     "status": "completed"
    },
    "tags": []
   },
   "outputs": [
    {
     "data": {
      "text/html": [
       "<div>\n",
       "<style scoped>\n",
       "    .dataframe tbody tr th:only-of-type {\n",
       "        vertical-align: middle;\n",
       "    }\n",
       "\n",
       "    .dataframe tbody tr th {\n",
       "        vertical-align: top;\n",
       "    }\n",
       "\n",
       "    .dataframe thead th {\n",
       "        text-align: right;\n",
       "    }\n",
       "</style>\n",
       "<table border=\"1\" class=\"dataframe\">\n",
       "  <thead>\n",
       "    <tr style=\"text-align: right;\">\n",
       "      <th></th>\n",
       "      <th>TV</th>\n",
       "      <th>Sales</th>\n",
       "    </tr>\n",
       "  </thead>\n",
       "  <tbody>\n",
       "    <tr>\n",
       "      <th>0</th>\n",
       "      <td>230.1</td>\n",
       "      <td>22.1</td>\n",
       "    </tr>\n",
       "    <tr>\n",
       "      <th>1</th>\n",
       "      <td>44.5</td>\n",
       "      <td>10.4</td>\n",
       "    </tr>\n",
       "    <tr>\n",
       "      <th>2</th>\n",
       "      <td>17.2</td>\n",
       "      <td>12.0</td>\n",
       "    </tr>\n",
       "    <tr>\n",
       "      <th>3</th>\n",
       "      <td>151.5</td>\n",
       "      <td>16.5</td>\n",
       "    </tr>\n",
       "    <tr>\n",
       "      <th>4</th>\n",
       "      <td>180.8</td>\n",
       "      <td>17.9</td>\n",
       "    </tr>\n",
       "    <tr>\n",
       "      <th>...</th>\n",
       "      <td>...</td>\n",
       "      <td>...</td>\n",
       "    </tr>\n",
       "    <tr>\n",
       "      <th>195</th>\n",
       "      <td>38.2</td>\n",
       "      <td>7.6</td>\n",
       "    </tr>\n",
       "    <tr>\n",
       "      <th>196</th>\n",
       "      <td>94.2</td>\n",
       "      <td>14.0</td>\n",
       "    </tr>\n",
       "    <tr>\n",
       "      <th>197</th>\n",
       "      <td>177.0</td>\n",
       "      <td>14.8</td>\n",
       "    </tr>\n",
       "    <tr>\n",
       "      <th>198</th>\n",
       "      <td>283.6</td>\n",
       "      <td>25.5</td>\n",
       "    </tr>\n",
       "    <tr>\n",
       "      <th>199</th>\n",
       "      <td>232.1</td>\n",
       "      <td>18.4</td>\n",
       "    </tr>\n",
       "  </tbody>\n",
       "</table>\n",
       "<p>200 rows × 2 columns</p>\n",
       "</div>"
      ],
      "text/plain": [
       "        TV  Sales\n",
       "0    230.1   22.1\n",
       "1     44.5   10.4\n",
       "2     17.2   12.0\n",
       "3    151.5   16.5\n",
       "4    180.8   17.9\n",
       "..     ...    ...\n",
       "195   38.2    7.6\n",
       "196   94.2   14.0\n",
       "197  177.0   14.8\n",
       "198  283.6   25.5\n",
       "199  232.1   18.4\n",
       "\n",
       "[200 rows x 2 columns]"
      ]
     },
     "execution_count": 25,
     "metadata": {},
     "output_type": "execute_result"
    }
   ],
   "source": [
    "df\n"
   ]
  },
  {
   "cell_type": "code",
   "execution_count": 26,
   "id": "bfc1eb20",
   "metadata": {
    "execution": {
     "iopub.execute_input": "2024-03-02T13:08:57.068654Z",
     "iopub.status.busy": "2024-03-02T13:08:57.067683Z",
     "iopub.status.idle": "2024-03-02T13:08:57.075738Z",
     "shell.execute_reply": "2024-03-02T13:08:57.074925Z"
    },
    "papermill": {
     "duration": 0.099717,
     "end_time": "2024-03-02T13:08:57.078272",
     "exception": false,
     "start_time": "2024-03-02T13:08:56.978555",
     "status": "completed"
    },
    "tags": []
   },
   "outputs": [
    {
     "data": {
      "text/plain": [
       "array([[280.7],\n",
       "       [248.8],\n",
       "       [ 97.5],\n",
       "       [276.7],\n",
       "       [255.4],\n",
       "       [215.4],\n",
       "       [170.2],\n",
       "       [ 94.2],\n",
       "       [239.9],\n",
       "       [ 38.2],\n",
       "       [ 25.6],\n",
       "       [120.5],\n",
       "       [191.1],\n",
       "       [ 17.9],\n",
       "       [213.5],\n",
       "       [276.9],\n",
       "       [  4.1],\n",
       "       [206.8],\n",
       "       [ 18.8],\n",
       "       [ 17.2],\n",
       "       [248.4],\n",
       "       [209.6],\n",
       "       [109.8],\n",
       "       [243.2],\n",
       "       [205. ],\n",
       "       [104.6],\n",
       "       [232.1],\n",
       "       [  7.8],\n",
       "       [  8.7],\n",
       "       [184.9],\n",
       "       [ 95.7],\n",
       "       [184.9],\n",
       "       [ 25.1],\n",
       "       [ 26.8],\n",
       "       [287.6],\n",
       "       [193.2],\n",
       "       [ 44.7],\n",
       "       [ 89.7],\n",
       "       [ 76.3],\n",
       "       [175.7]])"
      ]
     },
     "execution_count": 26,
     "metadata": {},
     "output_type": "execute_result"
    }
   ],
   "source": [
    "x_test"
   ]
  },
  {
   "cell_type": "code",
   "execution_count": 27,
   "id": "ee163f54",
   "metadata": {
    "execution": {
     "iopub.execute_input": "2024-03-02T13:08:57.118067Z",
     "iopub.status.busy": "2024-03-02T13:08:57.117343Z",
     "iopub.status.idle": "2024-03-02T13:08:57.124218Z",
     "shell.execute_reply": "2024-03-02T13:08:57.123013Z"
    },
    "papermill": {
     "duration": 0.0294,
     "end_time": "2024-03-02T13:08:57.126551",
     "exception": false,
     "start_time": "2024-03-02T13:08:57.097151",
     "status": "completed"
    },
    "tags": []
   },
   "outputs": [
    {
     "data": {
      "text/plain": [
       "array([8.01288062])"
      ]
     },
     "execution_count": 27,
     "metadata": {},
     "output_type": "execute_result"
    }
   ],
   "source": [
    "y_predict_test = lr.predict([[17.2]])\n",
    "y_predict_test"
   ]
  },
  {
   "cell_type": "code",
   "execution_count": 28,
   "id": "e0021409",
   "metadata": {
    "execution": {
     "iopub.execute_input": "2024-03-02T13:08:57.166397Z",
     "iopub.status.busy": "2024-03-02T13:08:57.165645Z",
     "iopub.status.idle": "2024-03-02T13:08:57.175106Z",
     "shell.execute_reply": "2024-03-02T13:08:57.173623Z"
    },
    "papermill": {
     "duration": 0.032528,
     "end_time": "2024-03-02T13:08:57.178001",
     "exception": false,
     "start_time": "2024-03-02T13:08:57.145473",
     "status": "completed"
    },
    "tags": []
   },
   "outputs": [
    {
     "data": {
      "text/plain": [
       "array([22.316301  , 20.58469148, 12.37175977, 22.09917128, 20.94295552,\n",
       "       18.7716583 , 16.31809245, 12.19262775, 20.10157785,  9.15281166,\n",
       "        8.46885303, 13.62025567, 17.45259525,  8.05087832, 18.66852169,\n",
       "       22.11002777,  7.30178078, 18.3048294 ,  8.09973251,  8.01288062,\n",
       "       20.5629785 , 18.45682021, 13.03943366, 20.28070987, 18.20712103,\n",
       "       12.75716503, 19.67817489,  7.50262577,  7.55147996, 17.11604418,\n",
       "       12.2740514 , 17.11604418,  8.44171182,  8.53399195, 22.69084977,\n",
       "       17.56658835,  9.50564745, 11.94835682, 11.22097225, 16.61664582])"
      ]
     },
     "execution_count": 28,
     "metadata": {},
     "output_type": "execute_result"
    }
   ],
   "source": [
    "y_predict_test = lr.predict(x_test)\n",
    "y_predict_test\n"
   ]
  },
  {
   "cell_type": "code",
   "execution_count": 29,
   "id": "ca0e7218",
   "metadata": {
    "execution": {
     "iopub.execute_input": "2024-03-02T13:08:57.219061Z",
     "iopub.status.busy": "2024-03-02T13:08:57.218263Z",
     "iopub.status.idle": "2024-03-02T13:08:57.428259Z",
     "shell.execute_reply": "2024-03-02T13:08:57.427057Z"
    },
    "papermill": {
     "duration": 0.233754,
     "end_time": "2024-03-02T13:08:57.431026",
     "exception": false,
     "start_time": "2024-03-02T13:08:57.197272",
     "status": "completed"
    },
    "tags": []
   },
   "outputs": [
    {
     "data": {
      "image/png": "[encoded data removed]",
      "text/plain": [
       "<Figure size 640x480 with 1 Axes>"
      ]
     },
     "metadata": {},
     "output_type": "display_data"
    }
   ],
   "source": [
    "#Hence the fully trained model is repesenting predictive results in graph form\n",
    "plt.scatter(x_test,y_test)\n",
    "plt.scatter(x_test,y_predict_test)\n",
    "plt.plot(x_test,y_predict_test,color=\"purple\")\n",
    "plt.xlabel(\"TV\")\n",
    "plt.ylabel(\"Sales\")\n",
    "plt.show()\n"
   ]
  },
  {
   "cell_type": "markdown",
   "id": "f1f8477c",
   "metadata": {
    "papermill": {
     "duration": 0.020675,
     "end_time": "2024-03-02T13:08:57.471127",
     "exception": false,
     "start_time": "2024-03-02T13:08:57.450452",
     "status": "completed"
    },
    "tags": []
   },
   "source": [
    "**Thank You**"
   ]
  }
 ],
 "metadata": {
  "kaggle": {
   "accelerator": "none",
   "dataSources": [
    {
     "datasetId": 133357,
     "sourceId": 317184,
     "sourceType": "datasetVersion"
    }
   ],
   "dockerImageVersionId": 30664,
   "isGpuEnabled": false,
   "isInternetEnabled": false,
   "language": "python",
   "sourceType": "notebook"
  },
  "kernelspec": {
   "display_name": "Python 3",
   "language": "python",
   "name": "python3"
  },
  "language_info": {
   "codemirror_mode": {
    "name": "ipython",
    "version": 3
   },
   "file_extension": ".py",
   "mimetype": "text/x-python",
   "name": "python",
   "nbconvert_exporter": "python",
   "pygments_lexer": "ipython3",
   "version": "3.10.13"
  },
  "papermill": {
   "default_parameters": {},
   "duration": 10.712833,
   "end_time": "2024-03-02T13:08:58.415084",
   "environment_variables": {},
   "exception": null,
   "input_path": "__notebook__.ipynb",
   "output_path": "__notebook__.ipynb",
   "parameters": {},
   "start_time": "2024-03-02T13:08:47.702251",
   "version": "2.5.0"
  }
 },
 "nbformat": 4,
 "nbformat_minor": 5
}
